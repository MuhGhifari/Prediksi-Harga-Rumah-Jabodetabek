{
  "cells": [
    {
      "cell_type": "markdown",
      "id": "ad3929e8",
      "metadata": {
        "id": "ad3929e8"
      },
      "source": [
        "# Model Prediksi Harga Rumah (Jabodetabek)"
      ]
    },
    {
      "cell_type": "markdown",
      "id": "8ef962d4",
      "metadata": {
        "id": "8ef962d4"
      },
      "source": [
        "Model ini dikembangkan untuk memprediksi kategori harga sebuah rumah dengan menganalisis berbagai atributnya, seperti jumlah kamar, luas tanah, dan luas bangunan."
      ]
    },
    {
      "cell_type": "markdown",
      "id": "qEgjxbg1XnWo",
      "metadata": {
        "id": "qEgjxbg1XnWo"
      },
      "source": [
        "## Library"
      ]
    },
    {
      "cell_type": "code",
      "execution_count": 3,
      "id": "pqwQNGpVXpcF",
      "metadata": {
        "id": "pqwQNGpVXpcF"
      },
      "outputs": [],
      "source": [
        "import pandas as pd\n",
        "import numpy as np\n",
        "import matplotlib.pyplot as plt\n",
        "import seaborn as sns"
      ]
    },
    {
      "cell_type": "markdown",
      "id": "KfltszEpXfXr",
      "metadata": {
        "id": "KfltszEpXfXr"
      },
      "source": [
        "## Data Cleaning"
      ]
    },
    {
      "cell_type": "markdown",
      "id": "ID14sueLXx4N",
      "metadata": {
        "id": "ID14sueLXx4N"
      },
      "source": [
        "### Import Data"
      ]
    },
    {
      "cell_type": "code",
      "execution_count": 4,
      "id": "7pgMY4TpXuGr",
      "metadata": {
        "colab": {
          "base_uri": "https://localhost:8080/"
        },
        "id": "7pgMY4TpXuGr",
        "outputId": "e4865786-e9ba-46b0-a8aa-0f49f43dc415"
      },
      "outputs": [
        {
          "name": "stdout",
          "output_type": "stream",
          "text": [
            "<class 'pandas.core.frame.DataFrame'>\n",
            "RangeIndex: 3553 entries, 0 to 3552\n",
            "Data columns (total 17 columns):\n",
            " #   Column              Non-Null Count  Dtype  \n",
            "---  ------              --------------  -----  \n",
            " 0   price               3553 non-null   float64\n",
            " 1   latitude            3553 non-null   float64\n",
            " 2   longitude           3553 non-null   float64\n",
            " 3   bedrooms            3519 non-null   float64\n",
            " 4   bathrooms           3524 non-null   float64\n",
            " 5   land_size           3551 non-null   float64\n",
            " 6   building_size       3551 non-null   float64\n",
            " 7   carports            3553 non-null   float64\n",
            " 8   certificate         3412 non-null   object \n",
            " 9   maid_bedrooms       3553 non-null   float64\n",
            " 10  maid_bathrooms      3553 non-null   float64\n",
            " 11  floors              3547 non-null   float64\n",
            " 12  building_age        2108 non-null   float64\n",
            " 13  year_built          2108 non-null   float64\n",
            " 14  property_condition  3307 non-null   object \n",
            " 15  garages             3553 non-null   float64\n",
            " 16  furnishing          3166 non-null   object \n",
            "dtypes: float64(14), object(3)\n",
            "memory usage: 472.0+ KB\n"
          ]
        }
      ],
      "source": [
        "data_url = 'https://raw.githubusercontent.com/MuhGhifari/Prediksi-Harga-Rumah-Jabodetabek/refs/heads/main/jabodetabek_house_price.csv'\n",
        "data = pd.read_csv(\n",
        "  data_url,\n",
        "  usecols=[\n",
        "    'price_in_rp',\n",
        "    'latitude',\n",
        "    'longitude',\n",
        "    'bedrooms',\n",
        "    'bathrooms',\n",
        "    'land_size_m2',\n",
        "    'building_size_m2',\n",
        "    'carports',\n",
        "    'maid_bedrooms',\n",
        "    'maid_bathrooms',\n",
        "    'floors',\n",
        "    'building_age',\n",
        "    'year_built',\n",
        "    'property_condition',\n",
        "    'furnishing',\n",
        "    'certificate',\n",
        "    'garages',\n",
        "  ]\n",
        ")\n",
        "\n",
        "data.rename(\n",
        "  columns={\n",
        "    'price_in_rp': 'price',\n",
        "    'land_size_m2': 'land_size',\n",
        "    'building_size_m2': 'building_size'\n",
        "  },\n",
        "  inplace=True\n",
        ")\n",
        "data.info()"
      ]
    },
    {
      "cell_type": "markdown",
      "id": "loMyo6_6bsaQ",
      "metadata": {
        "id": "loMyo6_6bsaQ"
      },
      "source": [
        "### Clean Null Values"
      ]
    },
    {
      "cell_type": "markdown",
      "id": "xXxQ-iXnbynY",
      "metadata": {
        "id": "xXxQ-iXnbynY"
      },
      "source": [
        "Lihat kolom-kolom yang mempunyai nilai NULL"
      ]
    },
    {
      "cell_type": "code",
      "execution_count": 5,
      "id": "P3RZLpM4btuq",
      "metadata": {
        "colab": {
          "base_uri": "https://localhost:8080/"
        },
        "id": "P3RZLpM4btuq",
        "outputId": "dc43876b-f010-4d3f-9981-e806c3326110"
      },
      "outputs": [
        {
          "name": "stdout",
          "output_type": "stream",
          "text": [
            "Index(['bedrooms', 'bathrooms', 'land_size', 'building_size', 'certificate',\n",
            "       'floors', 'building_age', 'year_built', 'property_condition',\n",
            "       'furnishing'],\n",
            "      dtype='object')\n"
          ]
        }
      ],
      "source": [
        "nullColumns = data.columns[data.isnull().any()]\n",
        "print(nullColumns)\n",
        "\n",
        "rowsBeforeCleaning = len(data)"
      ]
    },
    {
      "cell_type": "markdown",
      "id": "blCkmI9mb8an",
      "metadata": {
        "id": "blCkmI9mb8an"
      },
      "source": [
        "#### Bedrooms\n",
        "hapus semua data yang tidak mempunyai info 'bedrooms\""
      ]
    },
    {
      "cell_type": "code",
      "execution_count": 6,
      "id": "W4SXcPUCcH4I",
      "metadata": {
        "colab": {
          "base_uri": "https://localhost:8080/"
        },
        "id": "W4SXcPUCcH4I",
        "outputId": "2873b7e4-946e-4846-8b53-f6cd5e9bae16"
      },
      "outputs": [
        {
          "name": "stdout",
          "output_type": "stream",
          "text": [
            "effected rows : 34\n"
          ]
        }
      ],
      "source": [
        "nullIndex = pd.isnull(data['bedrooms'])\n",
        "print(f\"effected rows : {len(data[nullIndex])}\")\n",
        "data = data.dropna(subset=['bedrooms'])"
      ]
    },
    {
      "cell_type": "markdown",
      "id": "8c9F8Sp9cNIp",
      "metadata": {
        "id": "8c9F8Sp9cNIp"
      },
      "source": [
        "#### Bathrooms\n",
        "hapus semua data yang tidak mempunyai info 'bathrooms'"
      ]
    },
    {
      "cell_type": "code",
      "execution_count": 7,
      "id": "2GonfqmhcTbv",
      "metadata": {
        "colab": {
          "base_uri": "https://localhost:8080/"
        },
        "id": "2GonfqmhcTbv",
        "outputId": "e5d65193-afbc-4112-f276-678ffc5b7af9"
      },
      "outputs": [
        {
          "name": "stdout",
          "output_type": "stream",
          "text": [
            "effected rows : 5\n"
          ]
        }
      ],
      "source": [
        "nullIndex = pd.isnull(data['bathrooms'])\n",
        "print(f\"effected rows : {len(data[nullIndex])}\")\n",
        "data = data.dropna(subset=['bathrooms'])"
      ]
    },
    {
      "cell_type": "markdown",
      "id": "NblBPXZJchAB",
      "metadata": {
        "id": "NblBPXZJchAB"
      },
      "source": [
        "#### Floors\n",
        "hapus semua data yang tidak mempunyai info 'floors'"
      ]
    },
    {
      "cell_type": "code",
      "execution_count": 8,
      "id": "pCOtS53cct6o",
      "metadata": {
        "colab": {
          "base_uri": "https://localhost:8080/"
        },
        "id": "pCOtS53cct6o",
        "outputId": "ab95f984-1bdd-4a84-f16f-01566afbd265"
      },
      "outputs": [
        {
          "name": "stdout",
          "output_type": "stream",
          "text": [
            "effected rows : 4\n"
          ]
        }
      ],
      "source": [
        "nullIndex = pd.isnull(data['floors'])\n",
        "print(f\"effected rows : {len(data[nullIndex])}\")\n",
        "data = data.dropna(subset=['floors'])"
      ]
    },
    {
      "cell_type": "markdown",
      "id": "ga8VEbPgcxNy",
      "metadata": {
        "id": "ga8VEbPgcxNy"
      },
      "source": [
        "#### Building Age & Year Built\n",
        "lihat semua data yang tidak mempunyai umur bangunan"
      ]
    },
    {
      "cell_type": "code",
      "execution_count": 9,
      "id": "yPVB7QQAdPkT",
      "metadata": {
        "colab": {
          "base_uri": "https://localhost:8080/"
        },
        "id": "yPVB7QQAdPkT",
        "outputId": "51480102-f25d-4f51-e7b7-bdf7678a3484"
      },
      "outputs": [
        {
          "name": "stdout",
          "output_type": "stream",
          "text": [
            "effected rows : 1429\n"
          ]
        }
      ],
      "source": [
        "nullIndex = pd.isnull(data['building_age'])\n",
        "print(f\"effected rows : {len(data[nullIndex])}\")"
      ]
    },
    {
      "cell_type": "markdown",
      "id": "-_zrUp4dgEPi",
      "metadata": {
        "id": "-_zrUp4dgEPi"
      },
      "source": [
        "Lihat semua data umur bangunan dan tahun dibangunnya"
      ]
    },
    {
      "cell_type": "code",
      "execution_count": 10,
      "id": "xVfAZwVcdRzs",
      "metadata": {
        "colab": {
          "base_uri": "https://localhost:8080/"
        },
        "id": "xVfAZwVcdRzs",
        "outputId": "942c3ec6-e589-4898-dd3c-c4e9b684d40e"
      },
      "outputs": [
        {
          "name": "stdout",
          "output_type": "stream",
          "text": [
            "[  5.  nan   6.   9.   8.   7.   0.   2.   4.  11.   1.  12.  16.  22.\n",
            "   3.  15.  13.  10.  18.  37.  14.  21.  17.  28.  19.  20.  27. 152.\n",
            "  52.  36.  42.  26.  29.  32.  23.  34.  40.  24.  46.  45.  49. 121.\n",
            "  30.]\n"
          ]
        }
      ],
      "source": [
        "print(data['building_age'].unique())"
      ]
    },
    {
      "cell_type": "code",
      "execution_count": 11,
      "id": "NHH6FHxUdoLj",
      "metadata": {
        "colab": {
          "base_uri": "https://localhost:8080/"
        },
        "id": "NHH6FHxUdoLj",
        "outputId": "cbbdba0f-315f-4c25-9eba-88f56733116e"
      },
      "outputs": [
        {
          "name": "stdout",
          "output_type": "stream",
          "text": [
            "[1870. 1901. 1970. 1973. 1976. 1977. 1980. 1982. 1985. 1986. 1988. 1990.\n",
            " 1992. 1993. 1994. 1995. 1996. 1998. 1999. 2000. 2001. 2002. 2003. 2004.\n",
            " 2005. 2006. 2007. 2008. 2009. 2010. 2011. 2012. 2013. 2014. 2015. 2016.\n",
            " 2017. 2018. 2019. 2020. 2021. 2022. 2023. 2024. 2052.   nan]\n"
          ]
        }
      ],
      "source": [
        "print(data['year_built'].sort_values().unique())"
      ]
    },
    {
      "cell_type": "markdown",
      "id": "D7JVUQWsgblk",
      "metadata": {
        "id": "D7JVUQWsgblk"
      },
      "source": [
        "Lihat grafik umur dan tahun dibangun"
      ]
    },
    {
      "cell_type": "code",
      "execution_count": 12,
      "id": "6MoPv8bCggf5",
      "metadata": {
        "colab": {
          "base_uri": "https://localhost:8080/",
          "height": 0
        },
        "id": "6MoPv8bCggf5",
        "outputId": "065627ca-3cd5-4d5e-d21a-670081eb7158"
      },
      "outputs": [
        {
          "data": {
            "image/png": "[encoded data removed]",
            "text/plain": [
              "<Figure size 640x480 with 1 Axes>"
            ]
          },
          "metadata": {},
          "output_type": "display_data"
        }
      ],
      "source": [
        "plt.scatter(data['year_built'], data['building_age'])\n",
        "plt.xlabel('Tahun Dibangun')\n",
        "plt.ylabel('Umur Bangunan')\n",
        "plt.title('Tahun Dibangun & Umur Bangunan')\n",
        "plt.show()"
      ]
    },
    {
      "cell_type": "markdown",
      "id": "qdOnJHAtgMIf",
      "metadata": {
        "id": "qdOnJHAtgMIf"
      },
      "source": [
        "Dapat dilihat bahwa terdapat data yang tidak valid, yaitu bangunan yang tercatat dibangun setelah tahun **2022** (*tahun pengumpulan data*). Selain itu, seluruh bangunan yang dibangun pada tahun 2022 memiliki usia 0 tahun, sehingga dapat disimpulkan bahwa data ini memang dikumpulkan pada tahun 2022. Oleh karena itu, seluruh entri bangunan dengan tahun pembangunan lebih dari 2022 akan dihapus dari dataset."
      ]
    },
    {
      "cell_type": "code",
      "execution_count": 13,
      "id": "1jClN1KRei1c",
      "metadata": {
        "colab": {
          "base_uri": "https://localhost:8080/",
          "height": 0
        },
        "id": "1jClN1KRei1c",
        "outputId": "1e6c0729-5c6b-4bd2-e60e-a797cd3b3cf2"
      },
      "outputs": [
        {
          "data": {
            "image/png": "[encoded data removed]",
            "text/plain": [
              "<Figure size 640x480 with 1 Axes>"
            ]
          },
          "metadata": {},
          "output_type": "display_data"
        }
      ],
      "source": [
        "data = data.drop(data[data['year_built'] > 2022].index)\n",
        "plt.scatter(data['year_built'], data['building_age'])\n",
        "plt.xlabel('Tahun Dibangun')\n",
        "plt.ylabel('Umur Bangunan')\n",
        "plt.title('Tahun Dibangun & Umur Bangunan')\n",
        "plt.show()"
      ]
    },
    {
      "cell_type": "markdown",
      "id": "744CEb2wkpiB",
      "metadata": {
        "id": "744CEb2wkpiB"
      },
      "source": [
        "#### Property Condition\n",
        "Hapus semua data yang tidak memiliki kondisi properti\n",
        "\n"
      ]
    },
    {
      "cell_type": "code",
      "execution_count": 14,
      "id": "YXEWWdiTkqjM",
      "metadata": {
        "colab": {
          "base_uri": "https://localhost:8080/"
        },
        "id": "YXEWWdiTkqjM",
        "outputId": "3e1de6c7-bf52-4001-ba30-00c0703df39b"
      },
      "outputs": [
        {
          "name": "stdout",
          "output_type": "stream",
          "text": [
            "effected rows : 237\n"
          ]
        }
      ],
      "source": [
        "nullIndex = pd.isnull(data['property_condition'])\n",
        "print(f\"effected rows : {len(data[nullIndex])}\")\n",
        "data = data.dropna(subset=['property_condition'])"
      ]
    },
    {
      "cell_type": "markdown",
      "id": "UzeXgvj7nJIS",
      "metadata": {
        "id": "UzeXgvj7nJIS"
      },
      "source": [
        "#### Hasil Cleaning"
      ]
    },
    {
      "cell_type": "markdown",
      "id": "HqgBzEgdnQX1",
      "metadata": {
        "id": "HqgBzEgdnQX1"
      },
      "source": [
        "Lihat kolom yang mempunyai null"
      ]
    },
    {
      "cell_type": "code",
      "execution_count": 15,
      "id": "ExmsCnLXnYif",
      "metadata": {
        "colab": {
          "base_uri": "https://localhost:8080/"
        },
        "id": "ExmsCnLXnYif",
        "outputId": "66f6ccb5-d332-4df6-a8d1-7d2b2fd975c0"
      },
      "outputs": [
        {
          "name": "stdout",
          "output_type": "stream",
          "text": [
            "Index(['certificate', 'building_age', 'year_built', 'furnishing'], dtype='object')\n"
          ]
        }
      ],
      "source": [
        "nullColumns = data.columns[data.isnull().any()]\n",
        "print(nullColumns)"
      ]
    },
    {
      "cell_type": "markdown",
      "id": "iSXufbftncVM",
      "metadata": {
        "id": "iSXufbftncVM"
      },
      "source": [
        "Dapat dilihat bahwa masih ada beberapa data yang memiliki **NULL** values, namun data-data tersebut sangat banyak dan atribut selain `year_built` dan `building_age` masih dapat dipakai untuk keperluan lainnya, maka data-data tersebut masih disimpan."
      ]
    },
    {
      "cell_type": "markdown",
      "id": "uaNBNe14nOIn",
      "metadata": {
        "id": "uaNBNe14nOIn"
      },
      "source": [
        "Jumlah data yang dihapus"
      ]
    },
    {
      "cell_type": "code",
      "execution_count": 16,
      "id": "V3yTVo5Ml1B6",
      "metadata": {
        "colab": {
          "base_uri": "https://localhost:8080/"
        },
        "id": "V3yTVo5Ml1B6",
        "outputId": "0a7088e5-e77f-4c5f-f887-9d2f2c7b75bd"
      },
      "outputs": [
        {
          "name": "stdout",
          "output_type": "stream",
          "text": [
            "Jumlah data sebelum cleaning : 3553\n",
            "Jumlah data setelah cleaning : 3269\n",
            "Jumlah data yang dihapus : 284\n"
          ]
        }
      ],
      "source": [
        "rowsAfterCleaning = len(data)\n",
        "print(f\"Jumlah data sebelum cleaning : {rowsBeforeCleaning}\")\n",
        "print(f\"Jumlah data setelah cleaning : {rowsAfterCleaning}\")\n",
        "print(f\"Jumlah data yang dihapus : {rowsBeforeCleaning - rowsAfterCleaning}\")"
      ]
    },
    {
      "cell_type": "markdown",
      "id": "6qLLj3cmoa3u",
      "metadata": {
        "id": "6qLLj3cmoa3u"
      },
      "source": [
        "### Transformasi Data"
      ]
    },
    {
      "cell_type": "markdown",
      "id": "LbD7NYGgolvJ",
      "metadata": {
        "id": "LbD7NYGgolvJ"
      },
      "source": []
    },
    {
      "cell_type": "markdown",
      "id": "k34Bz99OokI2",
      "metadata": {
        "id": "k34Bz99OokI2"
      },
      "source": [
        "#### Property Condition"
      ]
    },
    {
      "cell_type": "code",
      "execution_count": 17,
      "id": "Dm0yIFVZogzi",
      "metadata": {
        "colab": {
          "base_uri": "https://localhost:8080/"
        },
        "id": "Dm0yIFVZogzi",
        "outputId": "528c84d4-853c-4760-962d-d1812950871f"
      },
      "outputs": [
        {
          "data": {
            "text/plain": [
              "array(['bagus', 'bagus sekali', 'baru', 'sudah renovasi',\n",
              "       'butuh renovasi', 'semi furnished', 'unfurnished'], dtype=object)"
            ]
          },
          "execution_count": 17,
          "metadata": {},
          "output_type": "execute_result"
        }
      ],
      "source": [
        "data['property_condition'].unique()"
      ]
    },
    {
      "cell_type": "code",
      "execution_count": 18,
      "id": "WvnZKyP0oolQ",
      "metadata": {
        "colab": {
          "base_uri": "https://localhost:8080/"
        },
        "id": "WvnZKyP0oolQ",
        "outputId": "308d0b90-e930-4bf5-e523-fa03b1c6282d"
      },
      "outputs": [
        {
          "name": "stdout",
          "output_type": "stream",
          "text": [
            "effected rows : 3269\n"
          ]
        }
      ],
      "source": [
        "data['property_condition'] = data['property_condition'].replace({\n",
        "  'bagus' : 'Siap Huni',\n",
        "  'bagus sekali' : 'Siap Huni',\n",
        "  'baru' : 'Baru',\n",
        "  'sudah renovasi' : 'Baru',\n",
        "  'semi furnished' : 'Siap Huni',\n",
        "  'unfurnished' : 'Baru',\n",
        "  'butuh renovasi' : 'Butuh Renovasi'\n",
        "})\n",
        "\n",
        "affectedRows = len(data[data['property_condition'].notna()])\n",
        "\n",
        "nullIndex = data['property_condition'].isna()\n",
        "\n",
        "# Change the null values to \"Baru\" if `year_built` is 2021 or later, and \"Siap Huni\" if older\n",
        "dataUpdate = data.loc[nullIndex].apply(lambda row: 'Baru' if pd.isna(row['property_condition']) and row['year_built'] >= 2021 else('Siap Huni'), axis=1)\n",
        "\n",
        "affectedRows += len(dataUpdate)\n",
        "\n",
        "data.loc[nullIndex, 'property_condition'] = dataUpdate\n",
        "\n",
        "print(f\"effected rows : {affectedRows}\")"
      ]
    },
    {
      "cell_type": "code",
      "execution_count": 19,
      "id": "EKoqrOM0op6Q",
      "metadata": {
        "colab": {
          "base_uri": "https://localhost:8080/"
        },
        "id": "EKoqrOM0op6Q",
        "outputId": "e646abe4-89e9-4cda-c7f1-c16bef016e15"
      },
      "outputs": [
        {
          "data": {
            "text/plain": [
              "array(['Siap Huni', 'Baru', 'Butuh Renovasi'], dtype=object)"
            ]
          },
          "execution_count": 19,
          "metadata": {},
          "output_type": "execute_result"
        }
      ],
      "source": [
        "data['property_condition'].unique()"
      ]
    },
    {
      "cell_type": "markdown",
      "id": "NMBshREDuv9-",
      "metadata": {
        "id": "NMBshREDuv9-"
      },
      "source": [
        "#### Furnishing"
      ]
    },
    {
      "cell_type": "code",
      "execution_count": 20,
      "id": "Y_5Vc9f4uyVM",
      "metadata": {
        "colab": {
          "base_uri": "https://localhost:8080/"
        },
        "id": "Y_5Vc9f4uyVM",
        "outputId": "3a0dee99-03a3-4258-8a4b-fcd872463c04"
      },
      "outputs": [
        {
          "data": {
            "text/plain": [
              "array(['unfurnished', nan, 'semi furnished', 'furnished', 'baru'],\n",
              "      dtype=object)"
            ]
          },
          "execution_count": 20,
          "metadata": {},
          "output_type": "execute_result"
        }
      ],
      "source": [
        "data['furnishing'].unique()"
      ]
    },
    {
      "cell_type": "code",
      "execution_count": 21,
      "id": "lU8bvqoxu11-",
      "metadata": {
        "colab": {
          "base_uri": "https://localhost:8080/"
        },
        "id": "lU8bvqoxu11-",
        "outputId": "6c6344b9-6514-4da1-cb46-d295add8571f"
      },
      "outputs": [
        {
          "name": "stdout",
          "output_type": "stream",
          "text": [
            "effected rows : 346\n"
          ]
        }
      ],
      "source": [
        "affectedRows = len(data[data['furnishing'] == 'baru'])\n",
        "data['furnishing'] = data['furnishing'].replace({'baru' : 'unfurnished'})\n",
        "\n",
        "# Fill null values depending on `property_condition` value\n",
        "nullIndex = data['furnishing'].isna()\n",
        "dataUpdate = data.loc[nullIndex].apply(lambda row: 'unfurnished' if row['property_condition'] == 'Baru' else('semi furnished'), axis=1)\n",
        "affectedRows += len(dataUpdate)\n",
        "data.loc[nullIndex, 'furnishing'] = dataUpdate\n",
        "print(f\"effected rows : {affectedRows}\")"
      ]
    },
    {
      "cell_type": "code",
      "execution_count": 22,
      "id": "Xbb334lNu8nH",
      "metadata": {
        "colab": {
          "base_uri": "https://localhost:8080/"
        },
        "id": "Xbb334lNu8nH",
        "outputId": "3c093445-958c-4bfa-9d9a-2e6d04e6f61a"
      },
      "outputs": [
        {
          "data": {
            "text/plain": [
              "array(['unfurnished', 'semi furnished', 'furnished'], dtype=object)"
            ]
          },
          "execution_count": 22,
          "metadata": {},
          "output_type": "execute_result"
        }
      ],
      "source": [
        "data['furnishing'].unique()"
      ]
    },
    {
      "cell_type": "markdown",
      "id": "mhNObjoqvBnr",
      "metadata": {
        "id": "mhNObjoqvBnr"
      },
      "source": [
        "#### Certificate"
      ]
    },
    {
      "cell_type": "code",
      "execution_count": 23,
      "id": "nsOKiG_su915",
      "metadata": {
        "colab": {
          "base_uri": "https://localhost:8080/"
        },
        "id": "nsOKiG_su915",
        "outputId": "7107db00-bb4b-4f67-d456-0a209a6c82b1"
      },
      "outputs": [
        {
          "name": "stdout",
          "output_type": "stream",
          "text": [
            "effected rows : 120\n"
          ]
        }
      ],
      "source": [
        "nullIndex = pd.isnull(data['certificate'])\n",
        "print(f\"effected rows : {len(data[nullIndex])}\")\n",
        "data.loc[nullIndex, 'certificate'] = 'Tidak ada'"
      ]
    },
    {
      "cell_type": "markdown",
      "id": "n4jW4BT2vLA1",
      "metadata": {
        "id": "n4jW4BT2vLA1"
      },
      "source": [
        "### Hilangkan Outlier"
      ]
    },
    {
      "cell_type": "markdown",
      "id": "s9FdNzNbved7",
      "metadata": {
        "id": "s9FdNzNbved7"
      },
      "source": [
        "#### Garis Lintang & Garis Bujur"
      ]
    },
    {
      "cell_type": "code",
      "execution_count": 24,
      "id": "1Y3cRQuIvEiM",
      "metadata": {
        "colab": {
          "base_uri": "https://localhost:8080/",
          "height": 467
        },
        "id": "1Y3cRQuIvEiM",
        "outputId": "a68e5d3d-8a11-4907-d13e-682ae3c0c171"
      },
      "outputs": [
        {
          "data": {
            "text/plain": [
              "<Axes: xlabel='longitude', ylabel='latitude'>"
            ]
          },
          "execution_count": 24,
          "metadata": {},
          "output_type": "execute_result"
        },
        {
          "data": {
            "image/png": "[encoded data removed]",
            "text/plain": [
              "<Figure size 640x480 with 1 Axes>"
            ]
          },
          "metadata": {},
          "output_type": "display_data"
        }
      ],
      "source": [
        "sns.scatterplot(data = data, x='longitude', y='latitude')"
      ]
    },
    {
      "cell_type": "code",
      "execution_count": 25,
      "id": "Uq_3idzvvqIo",
      "metadata": {
        "id": "Uq_3idzvvqIo"
      },
      "outputs": [],
      "source": [
        "data.drop(data[data['longitude'] > 108].index, inplace=True)\n",
        "data.drop(data[data['latitude'] > 6.788].index, inplace=True)"
      ]
    },
    {
      "cell_type": "code",
      "execution_count": 26,
      "id": "vA8y-V0ivqdx",
      "metadata": {
        "colab": {
          "base_uri": "https://localhost:8080/",
          "height": 467
        },
        "id": "vA8y-V0ivqdx",
        "outputId": "5d8c2406-4fb0-4fb3-bdab-61a31d85ba96"
      },
      "outputs": [
        {
          "data": {
            "text/plain": [
              "<Axes: xlabel='longitude', ylabel='latitude'>"
            ]
          },
          "execution_count": 26,
          "metadata": {},
          "output_type": "execute_result"
        },
        {
          "data": {
            "image/png": "[encoded data removed]",
            "text/plain": [
              "<Figure size 640x480 with 1 Axes>"
            ]
          },
          "metadata": {},
          "output_type": "display_data"
        }
      ],
      "source": [
        "sns.scatterplot(data = data, x='longitude', y='latitude')"
      ]
    },
    {
      "cell_type": "markdown",
      "id": "WejDYnizv4k2",
      "metadata": {
        "id": "WejDYnizv4k2"
      },
      "source": [
        "#### Harga"
      ]
    },
    {
      "cell_type": "code",
      "execution_count": 27,
      "id": "zHHqEkdWvwe_",
      "metadata": {
        "colab": {
          "base_uri": "https://localhost:8080/",
          "height": 444
        },
        "id": "zHHqEkdWvwe_",
        "outputId": "bc216810-a17b-4448-d38a-437039538ccd"
      },
      "outputs": [
        {
          "data": {
            "text/plain": [
              "<Axes: ylabel='price'>"
            ]
          },
          "execution_count": 27,
          "metadata": {},
          "output_type": "execute_result"
        },
        {
          "data": {
            "image/png": "[encoded data removed]",
            "text/plain": [
              "<Figure size 640x480 with 1 Axes>"
            ]
          },
          "metadata": {},
          "output_type": "display_data"
        }
      ],
      "source": [
        "sns.boxplot(data['price'])"
      ]
    },
    {
      "cell_type": "code",
      "execution_count": 28,
      "id": "A2ggmn6hv5nw",
      "metadata": {
        "colab": {
          "base_uri": "https://localhost:8080/"
        },
        "id": "A2ggmn6hv5nw",
        "outputId": "e9c5e813-dc96-4495-bda5-9942aacbf820"
      },
      "outputs": [
        {
          "name": "stdout",
          "output_type": "stream",
          "text": [
            "affected rows : 351\n"
          ]
        }
      ],
      "source": [
        "Q1 = data['price'].quantile(0.25)\n",
        "Q3 = data['price'].quantile(0.75)\n",
        "\n",
        "IQR = Q3 - Q1\n",
        "\n",
        "lower = Q1 - (1.5 * IQR)\n",
        "upper = Q3 + (1.5 * IQR)\n",
        "\n",
        "affectedRows = len(data[data['price'] > upper]) + len(data[data['price'] < lower])\n",
        "\n",
        "data.drop(data[data['price'] > upper].index, inplace=True)\n",
        "data.drop(data[data['price'] < lower].index, inplace=True)\n",
        "\n",
        "print(f\"affected rows : {affectedRows}\")"
      ]
    },
    {
      "cell_type": "markdown",
      "id": "4b441c7d",
      "metadata": {},
      "source": [
        "### Export Cleaned Data"
      ]
    },
    {
      "cell_type": "code",
      "execution_count": 29,
      "id": "1b7c81d5",
      "metadata": {},
      "outputs": [
        {
          "name": "stdout",
          "output_type": "stream",
          "text": [
            "Data berhasil diekspor ke jabodetabek_house_price_cleaned.csv\n"
          ]
        }
      ],
      "source": [
        "data.to_csv('jabodetabek_house_price_cleaned.csv', index=False)\n",
        "print(\"Data berhasil diekspor ke jabodetabek_house_price_cleaned.csv\")"
      ]
    }
  ],
  "metadata": {
    "colab": {
      "provenance": []
    },
    "kernelspec": {
      "display_name": "DataScienceEnv",
      "language": "python",
      "name": "python3"
    },
    "language_info": {
      "codemirror_mode": {
        "name": "ipython",
        "version": 3
      },
      "file_extension": ".py",
      "mimetype": "text/x-python",
      "name": "python",
      "nbconvert_exporter": "python",
      "pygments_lexer": "ipython3",
      "version": "3.13.3"
    }
  },
  "nbformat": 4,
  "nbformat_minor": 5
}
