{
 "cells": [
  {
   "cell_type": "markdown",
   "id": "ad3929e8",
   "metadata": {},
   "source": [
    "# Model Prediksi Harga Rumah (Jabodetabek)"
   ]
  },
  {
   "cell_type": "markdown",
   "id": "8ef962d4",
   "metadata": {},
   "source": [
    "Model ini dikembangkan untuk memprediksi kategori harga sebuah rumah dengan menganalisis berbagai atributnya, seperti jumlah kamar, luas tanah, dan luas bangunan."
   ]
  }
 ],
 "metadata": {
  "language_info": {
   "name": "python"
  }
 },
 "nbformat": 4,
 "nbformat_minor": 5
}
