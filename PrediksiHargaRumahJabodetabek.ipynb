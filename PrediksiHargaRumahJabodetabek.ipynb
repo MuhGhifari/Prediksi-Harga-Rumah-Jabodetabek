{
  "cells": [
    {
      "cell_type": "markdown",
      "id": "ad3929e8",
      "metadata": {
        "id": "ad3929e8"
      },
      "source": [
        "# Model Prediksi Harga Rumah (Jabodetabek)"
      ]
    },
    {
      "cell_type": "markdown",
      "id": "8ef962d4",
      "metadata": {
        "id": "8ef962d4"
      },
      "source": [
        "Model ini dikembangkan untuk memprediksi kategori harga sebuah rumah dengan menganalisis berbagai atributnya, seperti jumlah kamar, luas tanah, dan luas bangunan."
      ]
    },
    {
      "cell_type": "markdown",
      "source": [
        "## Library"
      ],
      "metadata": {
        "id": "qEgjxbg1XnWo"
      },
      "id": "qEgjxbg1XnWo"
    },
    {
      "cell_type": "code",
      "source": [
        "import pandas as pd\n",
        "import numpy as np\n",
        "import matplotlib.pyplot as plt"
      ],
      "metadata": {
        "id": "pqwQNGpVXpcF"
      },
      "id": "pqwQNGpVXpcF",
      "execution_count": 216,
      "outputs": []
    },
    {
      "cell_type": "markdown",
      "source": [
        "## Data Cleaning"
      ],
      "metadata": {
        "id": "KfltszEpXfXr"
      },
      "id": "KfltszEpXfXr"
    },
    {
      "cell_type": "markdown",
      "source": [
        "### Import Data"
      ],
      "metadata": {
        "id": "ID14sueLXx4N"
      },
      "id": "ID14sueLXx4N"
    },
    {
      "cell_type": "code",
      "source": [
        "data_url = 'https://raw.githubusercontent.com/MuhGhifari/Prediksi-Harga-Rumah-Jabodetabek/refs/heads/main/jabodetabek_house_price.csv'\n",
        "data = pd.read_csv(\n",
        "  data_url,\n",
        "  usecols=[\n",
        "    'price_in_rp',\n",
        "    'latitude',\n",
        "    'longitude',\n",
        "    'bedrooms',\n",
        "    'bathrooms',\n",
        "    'land_size_m2',\n",
        "    'building_size_m2',\n",
        "    'carports',\n",
        "    'maid_bedrooms',\n",
        "    'maid_bathrooms',\n",
        "    'floors',\n",
        "    'building_age',\n",
        "    'year_built',\n",
        "    'property_condition',\n",
        "    'garages',\n",
        "  ]\n",
        ")\n",
        "\n",
        "data.rename(\n",
        "  columns={\n",
        "    'price_in_rp': 'price',\n",
        "    'land_size_m2': 'land_size',\n",
        "    'building_size_m2': 'building_size'\n",
        "  },\n",
        "  inplace=True\n",
        ")\n",
        "data.info()"
      ],
      "metadata": {
        "colab": {
          "base_uri": "https://localhost:8080/"
        },
        "id": "7pgMY4TpXuGr",
        "outputId": "2b0b3d17-6dd9-4378-ed83-942d12c1e3ec"
      },
      "id": "7pgMY4TpXuGr",
      "execution_count": 217,
      "outputs": [
        {
          "output_type": "stream",
          "name": "stdout",
          "text": [
            "<class 'pandas.core.frame.DataFrame'>\n",
            "RangeIndex: 3553 entries, 0 to 3552\n",
            "Data columns (total 15 columns):\n",
            " #   Column              Non-Null Count  Dtype  \n",
            "---  ------              --------------  -----  \n",
            " 0   price               3553 non-null   float64\n",
            " 1   latitude            3553 non-null   float64\n",
            " 2   longitude           3553 non-null   float64\n",
            " 3   bedrooms            3519 non-null   float64\n",
            " 4   bathrooms           3524 non-null   float64\n",
            " 5   land_size           3551 non-null   float64\n",
            " 6   building_size       3551 non-null   float64\n",
            " 7   carports            3553 non-null   float64\n",
            " 8   maid_bedrooms       3553 non-null   float64\n",
            " 9   maid_bathrooms      3553 non-null   float64\n",
            " 10  floors              3547 non-null   float64\n",
            " 11  building_age        2108 non-null   float64\n",
            " 12  year_built          2108 non-null   float64\n",
            " 13  property_condition  3307 non-null   object \n",
            " 14  garages             3553 non-null   float64\n",
            "dtypes: float64(14), object(1)\n",
            "memory usage: 416.5+ KB\n"
          ]
        }
      ]
    },
    {
      "cell_type": "markdown",
      "source": [
        "### Clean Null Values"
      ],
      "metadata": {
        "id": "loMyo6_6bsaQ"
      },
      "id": "loMyo6_6bsaQ"
    },
    {
      "cell_type": "markdown",
      "source": [
        "Lihat kolom-kolom yang mempunyai nilai NULL"
      ],
      "metadata": {
        "id": "xXxQ-iXnbynY"
      },
      "id": "xXxQ-iXnbynY"
    },
    {
      "cell_type": "code",
      "source": [
        "nullColumns = data.columns[data.isnull().any()]\n",
        "print(nullColumns)\n",
        "\n",
        "rowsBeforeCleaning = len(data)"
      ],
      "metadata": {
        "id": "P3RZLpM4btuq",
        "outputId": "bab0fab6-5c58-4ab4-b18c-cd533cb66b70",
        "colab": {
          "base_uri": "https://localhost:8080/"
        }
      },
      "id": "P3RZLpM4btuq",
      "execution_count": 218,
      "outputs": [
        {
          "output_type": "stream",
          "name": "stdout",
          "text": [
            "Index(['bedrooms', 'bathrooms', 'land_size', 'building_size', 'floors',\n",
            "       'building_age', 'year_built', 'property_condition'],\n",
            "      dtype='object')\n"
          ]
        }
      ]
    },
    {
      "cell_type": "markdown",
      "source": [
        "#### Bedrooms\n",
        "hapus semua data yang tidak mempunyai info 'bedrooms\""
      ],
      "metadata": {
        "id": "blCkmI9mb8an"
      },
      "id": "blCkmI9mb8an"
    },
    {
      "cell_type": "code",
      "source": [
        "nullIndex = pd.isnull(data['bedrooms'])\n",
        "print(f\"effected rows : {len(data[nullIndex])}\")\n",
        "data = data.dropna(subset=['bedrooms'])"
      ],
      "metadata": {
        "id": "W4SXcPUCcH4I",
        "outputId": "44ab8591-f6c3-4340-ee1b-c17b4998a70e",
        "colab": {
          "base_uri": "https://localhost:8080/"
        }
      },
      "id": "W4SXcPUCcH4I",
      "execution_count": 219,
      "outputs": [
        {
          "output_type": "stream",
          "name": "stdout",
          "text": [
            "effected rows : 34\n"
          ]
        }
      ]
    },
    {
      "cell_type": "markdown",
      "source": [
        "#### Bathrooms\n",
        "hapus semua data yang tidak mempunyai info 'bathrooms'"
      ],
      "metadata": {
        "id": "8c9F8Sp9cNIp"
      },
      "id": "8c9F8Sp9cNIp"
    },
    {
      "cell_type": "code",
      "source": [
        "nullIndex = pd.isnull(data['bathrooms'])\n",
        "print(f\"effected rows : {len(data[nullIndex])}\")\n",
        "data = data.dropna(subset=['bathrooms'])"
      ],
      "metadata": {
        "id": "2GonfqmhcTbv",
        "outputId": "8d51a2c0-b19f-40d6-a559-0942db2e2c6e",
        "colab": {
          "base_uri": "https://localhost:8080/"
        }
      },
      "id": "2GonfqmhcTbv",
      "execution_count": 220,
      "outputs": [
        {
          "output_type": "stream",
          "name": "stdout",
          "text": [
            "effected rows : 5\n"
          ]
        }
      ]
    },
    {
      "cell_type": "markdown",
      "source": [
        "#### Floors\n",
        "hapus semua data yang tidak mempunyai info 'floors'"
      ],
      "metadata": {
        "id": "NblBPXZJchAB"
      },
      "id": "NblBPXZJchAB"
    },
    {
      "cell_type": "code",
      "source": [
        "nullIndex = pd.isnull(data['floors'])\n",
        "print(f\"effected rows : {len(data[nullIndex])}\")\n",
        "data = data.dropna(subset=['floors'])"
      ],
      "metadata": {
        "id": "pCOtS53cct6o",
        "outputId": "99a32a83-5aa0-49f1-f3e7-67558fbe540e",
        "colab": {
          "base_uri": "https://localhost:8080/"
        }
      },
      "id": "pCOtS53cct6o",
      "execution_count": 221,
      "outputs": [
        {
          "output_type": "stream",
          "name": "stdout",
          "text": [
            "effected rows : 4\n"
          ]
        }
      ]
    },
    {
      "cell_type": "markdown",
      "source": [
        "#### Building Age & Year Built\n",
        "lihat semua data yang tidak mempunyai umur bangunan"
      ],
      "metadata": {
        "id": "ga8VEbPgcxNy"
      },
      "id": "ga8VEbPgcxNy"
    },
    {
      "cell_type": "code",
      "source": [
        "nullIndex = pd.isnull(data['building_age'])\n",
        "print(f\"effected rows : {len(data[nullIndex])}\")"
      ],
      "metadata": {
        "id": "yPVB7QQAdPkT",
        "outputId": "e4fc9854-d4c9-4bb8-9c99-281e1f74f4a9",
        "colab": {
          "base_uri": "https://localhost:8080/"
        }
      },
      "id": "yPVB7QQAdPkT",
      "execution_count": 222,
      "outputs": [
        {
          "output_type": "stream",
          "name": "stdout",
          "text": [
            "effected rows : 1429\n"
          ]
        }
      ]
    },
    {
      "cell_type": "markdown",
      "source": [
        "Lihat semua data umur bangunan dan tahun dibangunnya"
      ],
      "metadata": {
        "id": "-_zrUp4dgEPi"
      },
      "id": "-_zrUp4dgEPi"
    },
    {
      "cell_type": "code",
      "source": [
        "print(data['building_age'].unique())"
      ],
      "metadata": {
        "id": "xVfAZwVcdRzs",
        "outputId": "983b94e8-6aed-42b4-c9a2-b1af765128bf",
        "colab": {
          "base_uri": "https://localhost:8080/"
        }
      },
      "id": "xVfAZwVcdRzs",
      "execution_count": 223,
      "outputs": [
        {
          "output_type": "stream",
          "name": "stdout",
          "text": [
            "[  5.  nan   6.   9.   8.   7.   0.   2.   4.  11.   1.  12.  16.  22.\n",
            "   3.  15.  13.  10.  18.  37.  14.  21.  17.  28.  19.  20.  27. 152.\n",
            "  52.  36.  42.  26.  29.  32.  23.  34.  40.  24.  46.  45.  49. 121.\n",
            "  30.]\n"
          ]
        }
      ]
    },
    {
      "cell_type": "code",
      "source": [
        "print(data['year_built'].sort_values().unique())"
      ],
      "metadata": {
        "id": "NHH6FHxUdoLj",
        "outputId": "ce6c1011-b641-48dc-cd40-2978d3959102",
        "colab": {
          "base_uri": "https://localhost:8080/"
        }
      },
      "id": "NHH6FHxUdoLj",
      "execution_count": 224,
      "outputs": [
        {
          "output_type": "stream",
          "name": "stdout",
          "text": [
            "[1870. 1901. 1970. 1973. 1976. 1977. 1980. 1982. 1985. 1986. 1988. 1990.\n",
            " 1992. 1993. 1994. 1995. 1996. 1998. 1999. 2000. 2001. 2002. 2003. 2004.\n",
            " 2005. 2006. 2007. 2008. 2009. 2010. 2011. 2012. 2013. 2014. 2015. 2016.\n",
            " 2017. 2018. 2019. 2020. 2021. 2022. 2023. 2024. 2052.   nan]\n"
          ]
        }
      ]
    },
    {
      "cell_type": "markdown",
      "source": [
        "Lihat grafik umur dan tahun dibangun"
      ],
      "metadata": {
        "id": "D7JVUQWsgblk"
      },
      "id": "D7JVUQWsgblk"
    },
    {
      "cell_type": "code",
      "source": [
        "plt.scatter(data['year_built'], data['building_age'])\n",
        "plt.xlabel('Tahun Dibangun')\n",
        "plt.ylabel('Umur Bangunan')\n",
        "plt.title('Tahun Dibangun & Umur Bangunan')\n",
        "plt.show()"
      ],
      "metadata": {
        "id": "6MoPv8bCggf5",
        "outputId": "fe8762ac-56c8-482a-ee67-92da724a0b5b",
        "colab": {
          "base_uri": "https://localhost:8080/",
          "height": 472
        }
      },
      "id": "6MoPv8bCggf5",
      "execution_count": 225,
      "outputs": [
        {
          "output_type": "display_data",
          "data": {
            "text/plain": [
              "<Figure size 640x480 with 1 Axes>"
            ],
            "image/png": "[encoded data removed]"
          },
          "metadata": {}
        }
      ]
    },
    {
      "cell_type": "markdown",
      "source": [
        "Dapat dilihat bahwa terdapat data yang tidak valid, yaitu bangunan yang tercatat dibangun setelah tahun **2022** (*tahun pengumpulan data*). Selain itu, seluruh bangunan yang dibangun pada tahun 2022 memiliki usia 0 tahun, sehingga dapat disimpulkan bahwa data ini memang dikumpulkan pada tahun 2022. Oleh karena itu, seluruh entri bangunan dengan tahun pembangunan lebih dari 2022 akan dihapus dari dataset."
      ],
      "metadata": {
        "id": "qdOnJHAtgMIf"
      },
      "id": "qdOnJHAtgMIf"
    },
    {
      "cell_type": "code",
      "source": [
        "data = data.drop(data[data['year_built'] > 2022].index)\n",
        "plt.scatter(data['year_built'], data['building_age'])\n",
        "plt.xlabel('Tahun Dibangun')\n",
        "plt.ylabel('Umur Bangunan')\n",
        "plt.title('Tahun Dibangun & Umur Bangunan')\n",
        "plt.show()"
      ],
      "metadata": {
        "id": "1jClN1KRei1c",
        "outputId": "2f680319-2373-447a-efab-2d91c20b1623",
        "colab": {
          "base_uri": "https://localhost:8080/",
          "height": 472
        }
      },
      "id": "1jClN1KRei1c",
      "execution_count": 226,
      "outputs": [
        {
          "output_type": "display_data",
          "data": {
            "text/plain": [
              "<Figure size 640x480 with 1 Axes>"
            ],
            "image/png": "[encoded data removed]"
          },
          "metadata": {}
        }
      ]
    },
    {
      "cell_type": "markdown",
      "source": [
        "#### Property Condition\n",
        "Hapus semua data yang tidak memiliki kondisi properti\n",
        "\n"
      ],
      "metadata": {
        "id": "744CEb2wkpiB"
      },
      "id": "744CEb2wkpiB"
    },
    {
      "cell_type": "code",
      "source": [
        "nullIndex = pd.isnull(data['property_condition'])\n",
        "print(f\"effected rows : {len(data[nullIndex])}\")\n",
        "data = data.dropna(subset=['property_condition'])"
      ],
      "metadata": {
        "id": "YXEWWdiTkqjM",
        "outputId": "1b610c9c-eae2-4bb4-ac8e-a15d87ebe2eb",
        "colab": {
          "base_uri": "https://localhost:8080/"
        }
      },
      "id": "YXEWWdiTkqjM",
      "execution_count": 227,
      "outputs": [
        {
          "output_type": "stream",
          "name": "stdout",
          "text": [
            "effected rows : 237\n"
          ]
        }
      ]
    },
    {
      "cell_type": "markdown",
      "source": [
        "#### Hasil Cleaning"
      ],
      "metadata": {
        "id": "UzeXgvj7nJIS"
      },
      "id": "UzeXgvj7nJIS"
    },
    {
      "cell_type": "markdown",
      "source": [
        "Lihat kolom yang mempunyai null"
      ],
      "metadata": {
        "id": "HqgBzEgdnQX1"
      },
      "id": "HqgBzEgdnQX1"
    },
    {
      "cell_type": "code",
      "source": [
        "nullColumns = data.columns[data.isnull().any()]\n",
        "print(nullColumns)"
      ],
      "metadata": {
        "id": "ExmsCnLXnYif",
        "outputId": "773548e7-60ec-4b6c-b41f-720419baad06",
        "colab": {
          "base_uri": "https://localhost:8080/"
        }
      },
      "id": "ExmsCnLXnYif",
      "execution_count": 229,
      "outputs": [
        {
          "output_type": "stream",
          "name": "stdout",
          "text": [
            "Index(['building_age', 'year_built'], dtype='object')\n"
          ]
        }
      ]
    },
    {
      "cell_type": "markdown",
      "source": [
        "Dapat dilihat bahwa masih ada beberapa data yang memiliki **NULL** values, namun data-data tersebut sangat banyak dan atribut selain `year_built` dan `building_age` masih dapat dipakai untuk keperluan lainnya, maka data-data tersebut masih disimpan."
      ],
      "metadata": {
        "id": "iSXufbftncVM"
      },
      "id": "iSXufbftncVM"
    },
    {
      "cell_type": "markdown",
      "source": [
        "Jumlah data yang dihapus"
      ],
      "metadata": {
        "id": "uaNBNe14nOIn"
      },
      "id": "uaNBNe14nOIn"
    },
    {
      "cell_type": "code",
      "source": [
        "rowsAfterCleaning = len(data)\n",
        "print(f\"Jumlah data sebelum cleaning : {rowsBeforeCleaning}\")\n",
        "print(f\"Jumlah data setelah cleaning : {rowsAfterCleaning}\")\n",
        "print(f\"Jumlah data yang dihapus : {rowsBeforeCleaning - rowsAfterCleaning}\")"
      ],
      "metadata": {
        "id": "V3yTVo5Ml1B6",
        "outputId": "379820fc-9268-4e88-d24a-1b42a51b9d77",
        "colab": {
          "base_uri": "https://localhost:8080/"
        }
      },
      "id": "V3yTVo5Ml1B6",
      "execution_count": 228,
      "outputs": [
        {
          "output_type": "stream",
          "name": "stdout",
          "text": [
            "Jumlah data sebelum cleaning : 3553\n",
            "Jumlah data setelah cleaning : 3269\n",
            "Jumlah data yang dihapus : 284\n"
          ]
        }
      ]
    }
  ],
  "metadata": {
    "language_info": {
      "name": "python"
    },
    "colab": {
      "provenance": []
    },
    "kernelspec": {
      "name": "python3",
      "display_name": "Python 3"
    }
  },
  "nbformat": 4,
  "nbformat_minor": 5
}