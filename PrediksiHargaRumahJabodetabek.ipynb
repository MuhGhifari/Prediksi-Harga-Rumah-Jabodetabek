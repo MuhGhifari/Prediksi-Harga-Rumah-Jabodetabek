{
  "cells": [
    {
      "cell_type": "markdown",
      "id": "ad3929e8",
      "metadata": {
        "id": "ad3929e8"
      },
      "source": [
        "# Model Prediksi Harga Rumah (Jabodetabek)"
      ]
    },
    {
      "cell_type": "markdown",
      "id": "8ef962d4",
      "metadata": {
        "id": "8ef962d4"
      },
      "source": [
        "Model ini dikembangkan untuk memprediksi kategori harga sebuah rumah dengan menganalisis berbagai atributnya, seperti jumlah kamar, luas tanah, dan luas bangunan."
      ]
    },
    {
      "cell_type": "code",
      "source": [
        "## Data Cleaning"
      ],
      "metadata": {
        "id": "SUP17ZFVXRRA"
      },
      "id": "SUP17ZFVXRRA",
      "execution_count": null,
      "outputs": []
    }
  ],
  "metadata": {
    "language_info": {
      "name": "python"
    },
    "colab": {
      "provenance": []
    },
    "kernelspec": {
      "name": "python3",
      "display_name": "Python 3"
    }
  },
  "nbformat": 4,
  "nbformat_minor": 5
}