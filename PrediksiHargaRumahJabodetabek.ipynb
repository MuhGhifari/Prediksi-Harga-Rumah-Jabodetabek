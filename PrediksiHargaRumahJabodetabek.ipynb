{
  "cells": [
    {
      "cell_type": "markdown",
      "id": "ad3929e8",
      "metadata": {
        "id": "ad3929e8"
      },
      "source": [
        "# Model Prediksi Harga Rumah (Jabodetabek)"
      ]
    },
    {
      "cell_type": "markdown",
      "id": "8ef962d4",
      "metadata": {
        "id": "8ef962d4"
      },
      "source": [
        "Model ini dikembangkan untuk memprediksi kategori harga sebuah rumah dengan menganalisis berbagai atributnya, seperti jumlah kamar, luas tanah, dan luas bangunan."
      ]
    },
    {
      "cell_type": "markdown",
      "source": [
        "## Library"
      ],
      "metadata": {
        "id": "qEgjxbg1XnWo"
      },
      "id": "qEgjxbg1XnWo"
    },
    {
      "cell_type": "code",
      "source": [
        "import pandas as pd\n",
        "import numpy as np"
      ],
      "metadata": {
        "id": "pqwQNGpVXpcF"
      },
      "id": "pqwQNGpVXpcF",
      "execution_count": 7,
      "outputs": []
    },
    {
      "cell_type": "markdown",
      "source": [
        "## Data Cleaning"
      ],
      "metadata": {
        "id": "KfltszEpXfXr"
      },
      "id": "KfltszEpXfXr"
    },
    {
      "cell_type": "markdown",
      "source": [
        "### Import Data"
      ],
      "metadata": {
        "id": "ID14sueLXx4N"
      },
      "id": "ID14sueLXx4N"
    },
    {
      "cell_type": "code",
      "source": [],
      "metadata": {
        "id": "7pgMY4TpXuGr"
      },
      "id": "7pgMY4TpXuGr",
      "execution_count": 8,
      "outputs": []
    }
  ],
  "metadata": {
    "language_info": {
      "name": "python"
    },
    "colab": {
      "provenance": []
    },
    "kernelspec": {
      "name": "python3",
      "display_name": "Python 3"
    }
  },
  "nbformat": 4,
  "nbformat_minor": 5
}