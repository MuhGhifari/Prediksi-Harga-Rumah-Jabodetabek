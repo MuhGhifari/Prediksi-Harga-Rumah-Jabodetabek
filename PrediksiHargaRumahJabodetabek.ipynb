{
  "cells": [
    {
      "cell_type": "markdown",
      "id": "ad3929e8",
      "metadata": {
        "id": "ad3929e8"
      },
      "source": [
        "# Model Prediksi Harga Rumah (Jabodetabek)"
      ]
    },
    {
      "cell_type": "markdown",
      "id": "8ef962d4",
      "metadata": {
        "id": "8ef962d4"
      },
      "source": [
        "Model ini dikembangkan untuk memprediksi kategori harga sebuah rumah dengan menganalisis berbagai atributnya, seperti jumlah kamar, luas tanah, dan luas bangunan."
      ]
    },
    {
      "cell_type": "markdown",
      "id": "qEgjxbg1XnWo",
      "metadata": {
        "id": "qEgjxbg1XnWo"
      },
      "source": [
        "## Library"
      ]
    },
    {
      "cell_type": "code",
      "execution_count": 1,
      "id": "pqwQNGpVXpcF",
      "metadata": {
        "id": "pqwQNGpVXpcF"
      },
      "outputs": [],
      "source": [
        "import pandas as pd\n",
        "import numpy as np\n",
        "import matplotlib.pyplot as plt\n",
        "import seaborn as sns"
      ]
    },
    {
      "cell_type": "markdown",
      "id": "KfltszEpXfXr",
      "metadata": {
        "id": "KfltszEpXfXr"
      },
      "source": [
        "## Data Cleaning"
      ]
    },
    {
      "cell_type": "markdown",
      "id": "ID14sueLXx4N",
      "metadata": {
        "id": "ID14sueLXx4N"
      },
      "source": [
        "### Import Data"
      ]
    },
    {
      "cell_type": "code",
      "execution_count": 2,
      "id": "7pgMY4TpXuGr",
      "metadata": {
        "colab": {
          "base_uri": "https://localhost:8080/"
        },
        "id": "7pgMY4TpXuGr",
        "outputId": "67811bb3-8e4f-45e5-a2cf-29e75306eb50"
      },
      "outputs": [
        {
          "output_type": "stream",
          "name": "stdout",
          "text": [
            "<class 'pandas.core.frame.DataFrame'>\n",
            "RangeIndex: 3553 entries, 0 to 3552\n",
            "Data columns (total 17 columns):\n",
            " #   Column              Non-Null Count  Dtype  \n",
            "---  ------              --------------  -----  \n",
            " 0   price               3553 non-null   float64\n",
            " 1   latitude            3553 non-null   float64\n",
            " 2   longitude           3553 non-null   float64\n",
            " 3   bedrooms            3519 non-null   float64\n",
            " 4   bathrooms           3524 non-null   float64\n",
            " 5   land_size           3551 non-null   float64\n",
            " 6   building_size       3551 non-null   float64\n",
            " 7   carports            3553 non-null   float64\n",
            " 8   certificate         3412 non-null   object \n",
            " 9   maid_bedrooms       3553 non-null   float64\n",
            " 10  maid_bathrooms      3553 non-null   float64\n",
            " 11  floors              3547 non-null   float64\n",
            " 12  building_age        2108 non-null   float64\n",
            " 13  year_built          2108 non-null   float64\n",
            " 14  property_condition  3307 non-null   object \n",
            " 15  garages             3553 non-null   float64\n",
            " 16  furnishing          3166 non-null   object \n",
            "dtypes: float64(14), object(3)\n",
            "memory usage: 472.0+ KB\n"
          ]
        }
      ],
      "source": [
        "data_url = 'https://raw.githubusercontent.com/MuhGhifari/Prediksi-Harga-Rumah-Jabodetabek/refs/heads/main/jabodetabek_house_price.csv'\n",
        "data = pd.read_csv(\n",
        "  data_url,\n",
        "  usecols=[\n",
        "    'price_in_rp',\n",
        "    'latitude',\n",
        "    'longitude',\n",
        "    'bedrooms',\n",
        "    'bathrooms',\n",
        "    'land_size_m2',\n",
        "    'building_size_m2',\n",
        "    'carports',\n",
        "    'maid_bedrooms',\n",
        "    'maid_bathrooms',\n",
        "    'floors',\n",
        "    'building_age',\n",
        "    'year_built',\n",
        "    'property_condition',\n",
        "    'furnishing',\n",
        "    'certificate',\n",
        "    'garages',\n",
        "  ]\n",
        ")\n",
        "\n",
        "data.rename(\n",
        "  columns={\n",
        "    'price_in_rp': 'price',\n",
        "    'land_size_m2': 'land_size',\n",
        "    'building_size_m2': 'building_size'\n",
        "  },\n",
        "  inplace=True\n",
        ")\n",
        "data.info()"
      ]
    },
    {
      "cell_type": "markdown",
      "id": "loMyo6_6bsaQ",
      "metadata": {
        "id": "loMyo6_6bsaQ"
      },
      "source": [
        "### Clean Null Values"
      ]
    },
    {
      "cell_type": "markdown",
      "id": "xXxQ-iXnbynY",
      "metadata": {
        "id": "xXxQ-iXnbynY"
      },
      "source": [
        "Lihat kolom-kolom yang mempunyai nilai NULL"
      ]
    },
    {
      "cell_type": "code",
      "execution_count": 3,
      "id": "P3RZLpM4btuq",
      "metadata": {
        "colab": {
          "base_uri": "https://localhost:8080/"
        },
        "id": "P3RZLpM4btuq",
        "outputId": "afb1ed24-7e0f-4951-b667-ad3324f2f6e7"
      },
      "outputs": [
        {
          "output_type": "stream",
          "name": "stdout",
          "text": [
            "Index(['bedrooms', 'bathrooms', 'land_size', 'building_size', 'certificate',\n",
            "       'floors', 'building_age', 'year_built', 'property_condition',\n",
            "       'furnishing'],\n",
            "      dtype='object')\n"
          ]
        }
      ],
      "source": [
        "nullColumns = data.columns[data.isnull().any()]\n",
        "print(nullColumns)\n",
        "\n",
        "rowsBeforeCleaning = len(data)"
      ]
    },
    {
      "cell_type": "markdown",
      "id": "blCkmI9mb8an",
      "metadata": {
        "id": "blCkmI9mb8an"
      },
      "source": [
        "#### Bedrooms\n",
        "hapus semua data yang tidak mempunyai info 'bedrooms\""
      ]
    },
    {
      "cell_type": "code",
      "execution_count": 4,
      "id": "W4SXcPUCcH4I",
      "metadata": {
        "colab": {
          "base_uri": "https://localhost:8080/"
        },
        "id": "W4SXcPUCcH4I",
        "outputId": "ed7c0de9-4369-48b4-8a7c-33b705183478"
      },
      "outputs": [
        {
          "output_type": "stream",
          "name": "stdout",
          "text": [
            "effected rows : 34\n"
          ]
        }
      ],
      "source": [
        "nullIndex = pd.isnull(data['bedrooms'])\n",
        "print(f\"effected rows : {len(data[nullIndex])}\")\n",
        "data = data.dropna(subset=['bedrooms'])"
      ]
    },
    {
      "cell_type": "markdown",
      "id": "8c9F8Sp9cNIp",
      "metadata": {
        "id": "8c9F8Sp9cNIp"
      },
      "source": [
        "#### Bathrooms\n",
        "hapus semua data yang tidak mempunyai info 'bathrooms'"
      ]
    },
    {
      "cell_type": "code",
      "execution_count": 5,
      "id": "2GonfqmhcTbv",
      "metadata": {
        "colab": {
          "base_uri": "https://localhost:8080/"
        },
        "id": "2GonfqmhcTbv",
        "outputId": "fb92ae2a-9b49-403d-d363-b0ff73aa8dce"
      },
      "outputs": [
        {
          "output_type": "stream",
          "name": "stdout",
          "text": [
            "effected rows : 5\n"
          ]
        }
      ],
      "source": [
        "nullIndex = pd.isnull(data['bathrooms'])\n",
        "print(f\"effected rows : {len(data[nullIndex])}\")\n",
        "data = data.dropna(subset=['bathrooms'])"
      ]
    },
    {
      "cell_type": "markdown",
      "id": "NblBPXZJchAB",
      "metadata": {
        "id": "NblBPXZJchAB"
      },
      "source": [
        "#### Floors\n",
        "hapus semua data yang tidak mempunyai info 'floors'"
      ]
    },
    {
      "cell_type": "code",
      "execution_count": 6,
      "id": "pCOtS53cct6o",
      "metadata": {
        "colab": {
          "base_uri": "https://localhost:8080/"
        },
        "id": "pCOtS53cct6o",
        "outputId": "d1f1ab96-3c90-4548-b2be-b2957f868993"
      },
      "outputs": [
        {
          "output_type": "stream",
          "name": "stdout",
          "text": [
            "effected rows : 4\n"
          ]
        }
      ],
      "source": [
        "nullIndex = pd.isnull(data['floors'])\n",
        "print(f\"effected rows : {len(data[nullIndex])}\")\n",
        "data = data.dropna(subset=['floors'])"
      ]
    },
    {
      "cell_type": "markdown",
      "id": "ga8VEbPgcxNy",
      "metadata": {
        "id": "ga8VEbPgcxNy"
      },
      "source": [
        "#### Building Age & Year Built\n",
        "lihat semua data yang tidak mempunyai umur bangunan"
      ]
    },
    {
      "cell_type": "code",
      "execution_count": 7,
      "id": "yPVB7QQAdPkT",
      "metadata": {
        "colab": {
          "base_uri": "https://localhost:8080/"
        },
        "id": "yPVB7QQAdPkT",
        "outputId": "2a8349c8-2a8d-4bef-8184-d3c733ccba42"
      },
      "outputs": [
        {
          "output_type": "stream",
          "name": "stdout",
          "text": [
            "effected rows : 1429\n"
          ]
        }
      ],
      "source": [
        "nullIndex = pd.isnull(data['building_age'])\n",
        "print(f\"effected rows : {len(data[nullIndex])}\")"
      ]
    },
    {
      "cell_type": "markdown",
      "id": "-_zrUp4dgEPi",
      "metadata": {
        "id": "-_zrUp4dgEPi"
      },
      "source": [
        "Lihat semua data umur bangunan dan tahun dibangunnya"
      ]
    },
    {
      "cell_type": "code",
      "execution_count": 8,
      "id": "xVfAZwVcdRzs",
      "metadata": {
        "colab": {
          "base_uri": "https://localhost:8080/"
        },
        "id": "xVfAZwVcdRzs",
        "outputId": "3e6e3f29-7a8e-4f36-b3b4-fb509000b915"
      },
      "outputs": [
        {
          "output_type": "stream",
          "name": "stdout",
          "text": [
            "[  5.  nan   6.   9.   8.   7.   0.   2.   4.  11.   1.  12.  16.  22.\n",
            "   3.  15.  13.  10.  18.  37.  14.  21.  17.  28.  19.  20.  27. 152.\n",
            "  52.  36.  42.  26.  29.  32.  23.  34.  40.  24.  46.  45.  49. 121.\n",
            "  30.]\n"
          ]
        }
      ],
      "source": [
        "print(data['building_age'].unique())"
      ]
    },
    {
      "cell_type": "code",
      "execution_count": 9,
      "id": "NHH6FHxUdoLj",
      "metadata": {
        "colab": {
          "base_uri": "https://localhost:8080/"
        },
        "id": "NHH6FHxUdoLj",
        "outputId": "64d22799-1028-4d16-c9ac-18aa31b601c7"
      },
      "outputs": [
        {
          "output_type": "stream",
          "name": "stdout",
          "text": [
            "[1870. 1901. 1970. 1973. 1976. 1977. 1980. 1982. 1985. 1986. 1988. 1990.\n",
            " 1992. 1993. 1994. 1995. 1996. 1998. 1999. 2000. 2001. 2002. 2003. 2004.\n",
            " 2005. 2006. 2007. 2008. 2009. 2010. 2011. 2012. 2013. 2014. 2015. 2016.\n",
            " 2017. 2018. 2019. 2020. 2021. 2022. 2023. 2024. 2052.   nan]\n"
          ]
        }
      ],
      "source": [
        "print(data['year_built'].sort_values().unique())"
      ]
    },
    {
      "cell_type": "markdown",
      "id": "D7JVUQWsgblk",
      "metadata": {
        "id": "D7JVUQWsgblk"
      },
      "source": [
        "Lihat grafik umur dan tahun dibangun"
      ]
    },
    {
      "cell_type": "code",
      "execution_count": 10,
      "id": "6MoPv8bCggf5",
      "metadata": {
        "colab": {
          "base_uri": "https://localhost:8080/",
          "height": 472
        },
        "id": "6MoPv8bCggf5",
        "outputId": "2c6bd4b7-44e6-4876-e598-4331ee5f22ba"
      },
      "outputs": [
        {
          "output_type": "display_data",
          "data": {
            "text/plain": [
              "<Figure size 640x480 with 1 Axes>"
            ],
            "image/png": "[encoded data removed]"
          },
          "metadata": {}
        }
      ],
      "source": [
        "plt.scatter(data['year_built'], data['building_age'])\n",
        "plt.xlabel('Tahun Dibangun')\n",
        "plt.ylabel('Umur Bangunan')\n",
        "plt.title('Tahun Dibangun & Umur Bangunan')\n",
        "plt.show()"
      ]
    },
    {
      "cell_type": "markdown",
      "id": "qdOnJHAtgMIf",
      "metadata": {
        "id": "qdOnJHAtgMIf"
      },
      "source": [
        "Dapat dilihat bahwa terdapat data yang tidak valid, yaitu bangunan yang tercatat dibangun setelah tahun **2022** (*tahun pengumpulan data*). Selain itu, seluruh bangunan yang dibangun pada tahun 2022 memiliki usia 0 tahun, sehingga dapat disimpulkan bahwa data ini memang dikumpulkan pada tahun 2022. Oleh karena itu, seluruh entri bangunan dengan tahun pembangunan lebih dari 2022 akan dihapus dari dataset."
      ]
    },
    {
      "cell_type": "code",
      "execution_count": 11,
      "id": "1jClN1KRei1c",
      "metadata": {
        "colab": {
          "base_uri": "https://localhost:8080/",
          "height": 472
        },
        "id": "1jClN1KRei1c",
        "outputId": "e79a4705-4677-44e4-9fd1-628babf31e8d"
      },
      "outputs": [
        {
          "output_type": "display_data",
          "data": {
            "text/plain": [
              "<Figure size 640x480 with 1 Axes>"
            ],
            "image/png": "[encoded data removed]"
          },
          "metadata": {}
        }
      ],
      "source": [
        "data = data.drop(data[data['year_built'] > 2022].index)\n",
        "plt.scatter(data['year_built'], data['building_age'])\n",
        "plt.xlabel('Tahun Dibangun')\n",
        "plt.ylabel('Umur Bangunan')\n",
        "plt.title('Tahun Dibangun & Umur Bangunan')\n",
        "plt.show()"
      ]
    },
    {
      "cell_type": "markdown",
      "id": "744CEb2wkpiB",
      "metadata": {
        "id": "744CEb2wkpiB"
      },
      "source": [
        "#### Property Condition\n",
        "Hapus semua data yang tidak memiliki kondisi properti\n",
        "\n"
      ]
    },
    {
      "cell_type": "code",
      "execution_count": 12,
      "id": "YXEWWdiTkqjM",
      "metadata": {
        "colab": {
          "base_uri": "https://localhost:8080/"
        },
        "id": "YXEWWdiTkqjM",
        "outputId": "fc6319ff-05d2-4ecd-8ca2-b6689375e534"
      },
      "outputs": [
        {
          "output_type": "stream",
          "name": "stdout",
          "text": [
            "effected rows : 237\n"
          ]
        }
      ],
      "source": [
        "nullIndex = pd.isnull(data['property_condition'])\n",
        "print(f\"effected rows : {len(data[nullIndex])}\")\n",
        "data = data.dropna(subset=['property_condition'])"
      ]
    },
    {
      "cell_type": "markdown",
      "id": "UzeXgvj7nJIS",
      "metadata": {
        "id": "UzeXgvj7nJIS"
      },
      "source": [
        "#### Hasil Cleaning"
      ]
    },
    {
      "cell_type": "markdown",
      "id": "HqgBzEgdnQX1",
      "metadata": {
        "id": "HqgBzEgdnQX1"
      },
      "source": [
        "Lihat kolom yang mempunyai null"
      ]
    },
    {
      "cell_type": "code",
      "execution_count": 13,
      "id": "ExmsCnLXnYif",
      "metadata": {
        "colab": {
          "base_uri": "https://localhost:8080/"
        },
        "id": "ExmsCnLXnYif",
        "outputId": "170f164e-975d-4b08-dc74-1acc86f8da15"
      },
      "outputs": [
        {
          "output_type": "stream",
          "name": "stdout",
          "text": [
            "Index(['certificate', 'building_age', 'year_built', 'furnishing'], dtype='object')\n"
          ]
        }
      ],
      "source": [
        "nullColumns = data.columns[data.isnull().any()]\n",
        "print(nullColumns)"
      ]
    },
    {
      "cell_type": "markdown",
      "id": "iSXufbftncVM",
      "metadata": {
        "id": "iSXufbftncVM"
      },
      "source": [
        "Dapat dilihat bahwa masih ada beberapa data yang memiliki **NULL** values, namun data-data tersebut sangat banyak dan atribut selain `year_built` dan `building_age` masih dapat dipakai untuk keperluan lainnya, maka data-data tersebut masih disimpan."
      ]
    },
    {
      "cell_type": "markdown",
      "id": "uaNBNe14nOIn",
      "metadata": {
        "id": "uaNBNe14nOIn"
      },
      "source": [
        "Jumlah data yang dihapus"
      ]
    },
    {
      "cell_type": "code",
      "execution_count": 14,
      "id": "V3yTVo5Ml1B6",
      "metadata": {
        "colab": {
          "base_uri": "https://localhost:8080/"
        },
        "id": "V3yTVo5Ml1B6",
        "outputId": "12ca93d1-4561-4e20-a1ee-167f81d213a6"
      },
      "outputs": [
        {
          "output_type": "stream",
          "name": "stdout",
          "text": [
            "Jumlah data sebelum cleaning : 3553\n",
            "Jumlah data setelah cleaning : 3269\n",
            "Jumlah data yang dihapus : 284\n"
          ]
        }
      ],
      "source": [
        "rowsAfterCleaning = len(data)\n",
        "print(f\"Jumlah data sebelum cleaning : {rowsBeforeCleaning}\")\n",
        "print(f\"Jumlah data setelah cleaning : {rowsAfterCleaning}\")\n",
        "print(f\"Jumlah data yang dihapus : {rowsBeforeCleaning - rowsAfterCleaning}\")"
      ]
    },
    {
      "cell_type": "markdown",
      "id": "6qLLj3cmoa3u",
      "metadata": {
        "id": "6qLLj3cmoa3u"
      },
      "source": [
        "### Transformasi Data"
      ]
    },
    {
      "cell_type": "markdown",
      "id": "LbD7NYGgolvJ",
      "metadata": {
        "id": "LbD7NYGgolvJ"
      },
      "source": []
    },
    {
      "cell_type": "markdown",
      "id": "k34Bz99OokI2",
      "metadata": {
        "id": "k34Bz99OokI2"
      },
      "source": [
        "#### Property Condition"
      ]
    },
    {
      "cell_type": "code",
      "execution_count": 15,
      "id": "Dm0yIFVZogzi",
      "metadata": {
        "colab": {
          "base_uri": "https://localhost:8080/"
        },
        "id": "Dm0yIFVZogzi",
        "outputId": "1770c84f-c9c1-4fa8-fae0-a92481358768"
      },
      "outputs": [
        {
          "output_type": "execute_result",
          "data": {
            "text/plain": [
              "array(['bagus', 'bagus sekali', 'baru', 'sudah renovasi',\n",
              "       'butuh renovasi', 'semi furnished', 'unfurnished'], dtype=object)"
            ]
          },
          "metadata": {},
          "execution_count": 15
        }
      ],
      "source": [
        "data['property_condition'].unique()"
      ]
    },
    {
      "cell_type": "code",
      "execution_count": 16,
      "id": "WvnZKyP0oolQ",
      "metadata": {
        "colab": {
          "base_uri": "https://localhost:8080/"
        },
        "id": "WvnZKyP0oolQ",
        "outputId": "2834c158-0f8b-4c9a-acde-826be9c29892"
      },
      "outputs": [
        {
          "output_type": "stream",
          "name": "stdout",
          "text": [
            "effected rows : 3269\n"
          ]
        }
      ],
      "source": [
        "data['property_condition'] = data['property_condition'].replace({\n",
        "  'bagus' : 'Siap Huni',\n",
        "  'bagus sekali' : 'Siap Huni',\n",
        "  'baru' : 'Baru',\n",
        "  'sudah renovasi' : 'Baru',\n",
        "  'semi furnished' : 'Siap Huni',\n",
        "  'unfurnished' : 'Baru',\n",
        "  'butuh renovasi' : 'Butuh Renovasi'\n",
        "})\n",
        "\n",
        "affectedRows = len(data[data['property_condition'].notna()])\n",
        "\n",
        "nullIndex = data['property_condition'].isna()\n",
        "\n",
        "# Change the null values to \"Baru\" if `year_built` is 2021 or later, and \"Siap Huni\" if older\n",
        "dataUpdate = data.loc[nullIndex].apply(lambda row: 'Baru' if pd.isna(row['property_condition']) and row['year_built'] >= 2021 else('Siap Huni'), axis=1)\n",
        "\n",
        "affectedRows += len(dataUpdate)\n",
        "\n",
        "data.loc[nullIndex, 'property_condition'] = dataUpdate\n",
        "\n",
        "print(f\"effected rows : {affectedRows}\")"
      ]
    },
    {
      "cell_type": "code",
      "execution_count": 17,
      "id": "EKoqrOM0op6Q",
      "metadata": {
        "colab": {
          "base_uri": "https://localhost:8080/"
        },
        "id": "EKoqrOM0op6Q",
        "outputId": "48938dd7-1ce3-43dc-beaa-83fdbaf67f92"
      },
      "outputs": [
        {
          "output_type": "execute_result",
          "data": {
            "text/plain": [
              "array(['Siap Huni', 'Baru', 'Butuh Renovasi'], dtype=object)"
            ]
          },
          "metadata": {},
          "execution_count": 17
        }
      ],
      "source": [
        "data['property_condition'].unique()"
      ]
    },
    {
      "cell_type": "markdown",
      "id": "NMBshREDuv9-",
      "metadata": {
        "id": "NMBshREDuv9-"
      },
      "source": [
        "#### Furnishing"
      ]
    },
    {
      "cell_type": "code",
      "execution_count": 18,
      "id": "Y_5Vc9f4uyVM",
      "metadata": {
        "colab": {
          "base_uri": "https://localhost:8080/"
        },
        "id": "Y_5Vc9f4uyVM",
        "outputId": "5bbc98d4-7e1f-4b8f-bad8-ea51651921f8"
      },
      "outputs": [
        {
          "output_type": "execute_result",
          "data": {
            "text/plain": [
              "array(['unfurnished', nan, 'semi furnished', 'furnished', 'baru'],\n",
              "      dtype=object)"
            ]
          },
          "metadata": {},
          "execution_count": 18
        }
      ],
      "source": [
        "data['furnishing'].unique()"
      ]
    },
    {
      "cell_type": "code",
      "execution_count": 19,
      "id": "lU8bvqoxu11-",
      "metadata": {
        "colab": {
          "base_uri": "https://localhost:8080/"
        },
        "id": "lU8bvqoxu11-",
        "outputId": "8edd9efc-698d-4bc4-bcea-fdfec378981d"
      },
      "outputs": [
        {
          "output_type": "stream",
          "name": "stdout",
          "text": [
            "effected rows : 346\n"
          ]
        }
      ],
      "source": [
        "affectedRows = len(data[data['furnishing'] == 'baru'])\n",
        "data['furnishing'] = data['furnishing'].replace({'baru' : 'unfurnished'})\n",
        "\n",
        "# Fill null values depending on `property_condition` value\n",
        "nullIndex = data['furnishing'].isna()\n",
        "dataUpdate = data.loc[nullIndex].apply(lambda row: 'unfurnished' if row['property_condition'] == 'Baru' else('semi furnished'), axis=1)\n",
        "affectedRows += len(dataUpdate)\n",
        "data.loc[nullIndex, 'furnishing'] = dataUpdate\n",
        "print(f\"effected rows : {affectedRows}\")"
      ]
    },
    {
      "cell_type": "code",
      "execution_count": 20,
      "id": "Xbb334lNu8nH",
      "metadata": {
        "colab": {
          "base_uri": "https://localhost:8080/"
        },
        "id": "Xbb334lNu8nH",
        "outputId": "fd15b1e5-0026-4707-f14d-b2880429ce8d"
      },
      "outputs": [
        {
          "output_type": "execute_result",
          "data": {
            "text/plain": [
              "array(['unfurnished', 'semi furnished', 'furnished'], dtype=object)"
            ]
          },
          "metadata": {},
          "execution_count": 20
        }
      ],
      "source": [
        "data['furnishing'].unique()"
      ]
    },
    {
      "cell_type": "markdown",
      "id": "mhNObjoqvBnr",
      "metadata": {
        "id": "mhNObjoqvBnr"
      },
      "source": [
        "#### Certificate"
      ]
    },
    {
      "cell_type": "code",
      "execution_count": 21,
      "id": "nsOKiG_su915",
      "metadata": {
        "colab": {
          "base_uri": "https://localhost:8080/"
        },
        "id": "nsOKiG_su915",
        "outputId": "b92dc38f-6dfa-4486-a710-bedd37c246a4"
      },
      "outputs": [
        {
          "output_type": "stream",
          "name": "stdout",
          "text": [
            "effected rows : 120\n"
          ]
        }
      ],
      "source": [
        "nullIndex = pd.isnull(data['certificate'])\n",
        "print(f\"effected rows : {len(data[nullIndex])}\")\n",
        "data.loc[nullIndex, 'certificate'] = 'Tidak ada'"
      ]
    },
    {
      "cell_type": "markdown",
      "id": "n4jW4BT2vLA1",
      "metadata": {
        "id": "n4jW4BT2vLA1"
      },
      "source": [
        "### Hilangkan Outlier"
      ]
    },
    {
      "cell_type": "markdown",
      "id": "s9FdNzNbved7",
      "metadata": {
        "id": "s9FdNzNbved7"
      },
      "source": [
        "#### Garis Lintang & Garis Bujur"
      ]
    },
    {
      "cell_type": "code",
      "execution_count": 22,
      "id": "1Y3cRQuIvEiM",
      "metadata": {
        "colab": {
          "base_uri": "https://localhost:8080/",
          "height": 467
        },
        "id": "1Y3cRQuIvEiM",
        "outputId": "57041df2-9024-48a4-efe4-cfb9bd13f14f"
      },
      "outputs": [
        {
          "output_type": "execute_result",
          "data": {
            "text/plain": [
              "<Axes: xlabel='longitude', ylabel='latitude'>"
            ]
          },
          "metadata": {},
          "execution_count": 22
        },
        {
          "output_type": "display_data",
          "data": {
            "text/plain": [
              "<Figure size 640x480 with 1 Axes>"
            ],
            "image/png": "[encoded data removed]"
          },
          "metadata": {}
        }
      ],
      "source": [
        "sns.scatterplot(data = data, x='longitude', y='latitude')"
      ]
    },
    {
      "cell_type": "code",
      "execution_count": 23,
      "id": "Uq_3idzvvqIo",
      "metadata": {
        "id": "Uq_3idzvvqIo"
      },
      "outputs": [],
      "source": [
        "data.drop(data[data['longitude'] > 108].index, inplace=True)\n",
        "data.drop(data[data['latitude'] > 6.788].index, inplace=True)"
      ]
    },
    {
      "cell_type": "code",
      "execution_count": 24,
      "id": "vA8y-V0ivqdx",
      "metadata": {
        "colab": {
          "base_uri": "https://localhost:8080/",
          "height": 467
        },
        "id": "vA8y-V0ivqdx",
        "outputId": "42f990ce-8ab5-4039-a575-868e1ac45e3b"
      },
      "outputs": [
        {
          "output_type": "execute_result",
          "data": {
            "text/plain": [
              "<Axes: xlabel='longitude', ylabel='latitude'>"
            ]
          },
          "metadata": {},
          "execution_count": 24
        },
        {
          "output_type": "display_data",
          "data": {
            "text/plain": [
              "<Figure size 640x480 with 1 Axes>"
            ],
            "image/png": "[encoded data removed]"
          },
          "metadata": {}
        }
      ],
      "source": [
        "sns.scatterplot(data = data, x='longitude', y='latitude')"
      ]
    },
    {
      "cell_type": "markdown",
      "id": "WejDYnizv4k2",
      "metadata": {
        "id": "WejDYnizv4k2"
      },
      "source": [
        "#### Harga"
      ]
    },
    {
      "cell_type": "code",
      "execution_count": 25,
      "id": "zHHqEkdWvwe_",
      "metadata": {
        "colab": {
          "base_uri": "https://localhost:8080/",
          "height": 444
        },
        "id": "zHHqEkdWvwe_",
        "outputId": "6166338b-3d92-409a-8071-a4b1254af661"
      },
      "outputs": [
        {
          "output_type": "execute_result",
          "data": {
            "text/plain": [
              "<Axes: ylabel='price'>"
            ]
          },
          "metadata": {},
          "execution_count": 25
        },
        {
          "output_type": "display_data",
          "data": {
            "text/plain": [
              "<Figure size 640x480 with 1 Axes>"
            ],
            "image/png": "[encoded data removed]"
          },
          "metadata": {}
        }
      ],
      "source": [
        "sns.boxplot(data['price'])"
      ]
    },
    {
      "cell_type": "code",
      "execution_count": 26,
      "id": "A2ggmn6hv5nw",
      "metadata": {
        "colab": {
          "base_uri": "https://localhost:8080/"
        },
        "id": "A2ggmn6hv5nw",
        "outputId": "ba201243-4edb-492d-9765-0a6f11b73462"
      },
      "outputs": [
        {
          "output_type": "stream",
          "name": "stdout",
          "text": [
            "affected rows : 351\n"
          ]
        }
      ],
      "source": [
        "Q1 = data['price'].quantile(0.25)\n",
        "Q3 = data['price'].quantile(0.75)\n",
        "\n",
        "IQR = Q3 - Q1\n",
        "\n",
        "lower = Q1 - (1.5 * IQR)\n",
        "upper = Q3 + (1.5 * IQR)\n",
        "\n",
        "affectedRows = len(data[data['price'] > upper]) + len(data[data['price'] < lower])\n",
        "\n",
        "data.drop(data[data['price'] > upper].index, inplace=True)\n",
        "data.drop(data[data['price'] < lower].index, inplace=True)\n",
        "\n",
        "print(f\"affected rows : {affectedRows}\")"
      ]
    },
    {
      "cell_type": "markdown",
      "id": "4b441c7d",
      "metadata": {
        "id": "4b441c7d"
      },
      "source": [
        "### Export Cleaned Data"
      ]
    },
    {
      "cell_type": "code",
      "execution_count": 27,
      "id": "1b7c81d5",
      "metadata": {
        "id": "1b7c81d5",
        "outputId": "4e05e29b-a5d1-4061-a2db-e446e2e96a73",
        "colab": {
          "base_uri": "https://localhost:8080/"
        }
      },
      "outputs": [
        {
          "output_type": "stream",
          "name": "stdout",
          "text": [
            "Data berhasil diekspor ke jabodetabek_house_price_cleaned.csv\n"
          ]
        }
      ],
      "source": [
        "data.to_csv('jabodetabek_house_price_cleaned.csv', index=False)\n",
        "print(\"Data berhasil diekspor ke jabodetabek_house_price_cleaned.csv\")"
      ]
    },
    {
      "cell_type": "markdown",
      "source": [
        "## Pengembangan Model"
      ],
      "metadata": {
        "id": "qQhpzKRjCXsm"
      },
      "id": "qQhpzKRjCXsm"
    },
    {
      "cell_type": "code",
      "source": [
        "data = pd.read_csv('jabodetabek_house_price_cleaned.csv')\n",
        "data.head()"
      ],
      "metadata": {
        "id": "JYSr6yT_0KKr",
        "outputId": "85711548-73dd-4cbd-8347-017307ddf6fe",
        "colab": {
          "base_uri": "https://localhost:8080/",
          "height": 348
        }
      },
      "id": "JYSr6yT_0KKr",
      "execution_count": 33,
      "outputs": [
        {
          "output_type": "execute_result",
          "data": {
            "text/plain": [
              "          price  latitude   longitude  bedrooms  bathrooms  land_size  \\\n",
              "0  2.990000e+09 -6.223945  106.986275       4.0        4.0      239.0   \n",
              "1  1.270000e+09 -6.223945  106.986275       3.0        2.0       55.0   \n",
              "2  1.950000e+09 -6.223945  106.986275       3.0        3.0      119.0   \n",
              "3  3.300000e+09 -6.223945  106.986275       3.0        3.0      180.0   \n",
              "4  4.500000e+09 -6.223945  106.986275       4.0        3.0      328.0   \n",
              "\n",
              "   building_size  carports                 certificate  maid_bedrooms  \\\n",
              "0          272.0       0.0  shm - sertifikat hak milik            0.0   \n",
              "1           69.0       1.0     hgb - hak guna bangunan            0.0   \n",
              "2          131.0       1.0     hgb - hak guna bangunan            1.0   \n",
              "3          174.0       0.0  shm - sertifikat hak milik            1.0   \n",
              "4          196.0       2.0  shm - sertifikat hak milik            1.0   \n",
              "\n",
              "   maid_bathrooms  floors  building_age  year_built property_condition  \\\n",
              "0             1.0     2.0           5.0      2017.0          Siap Huni   \n",
              "1             0.0     2.0           NaN         NaN          Siap Huni   \n",
              "2             1.0     2.0           NaN         NaN          Siap Huni   \n",
              "3             1.0     2.0           6.0      2016.0          Siap Huni   \n",
              "4             1.0     2.0           9.0      2013.0          Siap Huni   \n",
              "\n",
              "   garages      furnishing  \n",
              "0      0.0     unfurnished  \n",
              "1      0.0  semi furnished  \n",
              "2      1.0     unfurnished  \n",
              "3      2.0     unfurnished  \n",
              "4      1.0     unfurnished  "
            ],
            "text/html": [
              "\n",
              "  <div id=\"df-6212cf1c-d062-49a0-9a73-9bf4972b2b55\" class=\"colab-df-container\">\n",
              "    <div>\n",
              "<style scoped>\n",
              "    .dataframe tbody tr th:only-of-type {\n",
              "        vertical-align: middle;\n",
              "    }\n",
              "\n",
              "    .dataframe tbody tr th {\n",
              "        vertical-align: top;\n",
              "    }\n",
              "\n",
              "    .dataframe thead th {\n",
              "        text-align: right;\n",
              "    }\n",
              "</style>\n",
              "<table border=\"1\" class=\"dataframe\">\n",
              "  <thead>\n",
              "    <tr style=\"text-align: right;\">\n",
              "      <th></th>\n",
              "      <th>price</th>\n",
              "      <th>latitude</th>\n",
              "      <th>longitude</th>\n",
              "      <th>bedrooms</th>\n",
              "      <th>bathrooms</th>\n",
              "      <th>land_size</th>\n",
              "      <th>building_size</th>\n",
              "      <th>carports</th>\n",
              "      <th>certificate</th>\n",
              "      <th>maid_bedrooms</th>\n",
              "      <th>maid_bathrooms</th>\n",
              "      <th>floors</th>\n",
              "      <th>building_age</th>\n",
              "      <th>year_built</th>\n",
              "      <th>property_condition</th>\n",
              "      <th>garages</th>\n",
              "      <th>furnishing</th>\n",
              "    </tr>\n",
              "  </thead>\n",
              "  <tbody>\n",
              "    <tr>\n",
              "      <th>0</th>\n",
              "      <td>2.990000e+09</td>\n",
              "      <td>-6.223945</td>\n",
              "      <td>106.986275</td>\n",
              "      <td>4.0</td>\n",
              "      <td>4.0</td>\n",
              "      <td>239.0</td>\n",
              "      <td>272.0</td>\n",
              "      <td>0.0</td>\n",
              "      <td>shm - sertifikat hak milik</td>\n",
              "      <td>0.0</td>\n",
              "      <td>1.0</td>\n",
              "      <td>2.0</td>\n",
              "      <td>5.0</td>\n",
              "      <td>2017.0</td>\n",
              "      <td>Siap Huni</td>\n",
              "      <td>0.0</td>\n",
              "      <td>unfurnished</td>\n",
              "    </tr>\n",
              "    <tr>\n",
              "      <th>1</th>\n",
              "      <td>1.270000e+09</td>\n",
              "      <td>-6.223945</td>\n",
              "      <td>106.986275</td>\n",
              "      <td>3.0</td>\n",
              "      <td>2.0</td>\n",
              "      <td>55.0</td>\n",
              "      <td>69.0</td>\n",
              "      <td>1.0</td>\n",
              "      <td>hgb - hak guna bangunan</td>\n",
              "      <td>0.0</td>\n",
              "      <td>0.0</td>\n",
              "      <td>2.0</td>\n",
              "      <td>NaN</td>\n",
              "      <td>NaN</td>\n",
              "      <td>Siap Huni</td>\n",
              "      <td>0.0</td>\n",
              "      <td>semi furnished</td>\n",
              "    </tr>\n",
              "    <tr>\n",
              "      <th>2</th>\n",
              "      <td>1.950000e+09</td>\n",
              "      <td>-6.223945</td>\n",
              "      <td>106.986275</td>\n",
              "      <td>3.0</td>\n",
              "      <td>3.0</td>\n",
              "      <td>119.0</td>\n",
              "      <td>131.0</td>\n",
              "      <td>1.0</td>\n",
              "      <td>hgb - hak guna bangunan</td>\n",
              "      <td>1.0</td>\n",
              "      <td>1.0</td>\n",
              "      <td>2.0</td>\n",
              "      <td>NaN</td>\n",
              "      <td>NaN</td>\n",
              "      <td>Siap Huni</td>\n",
              "      <td>1.0</td>\n",
              "      <td>unfurnished</td>\n",
              "    </tr>\n",
              "    <tr>\n",
              "      <th>3</th>\n",
              "      <td>3.300000e+09</td>\n",
              "      <td>-6.223945</td>\n",
              "      <td>106.986275</td>\n",
              "      <td>3.0</td>\n",
              "      <td>3.0</td>\n",
              "      <td>180.0</td>\n",
              "      <td>174.0</td>\n",
              "      <td>0.0</td>\n",
              "      <td>shm - sertifikat hak milik</td>\n",
              "      <td>1.0</td>\n",
              "      <td>1.0</td>\n",
              "      <td>2.0</td>\n",
              "      <td>6.0</td>\n",
              "      <td>2016.0</td>\n",
              "      <td>Siap Huni</td>\n",
              "      <td>2.0</td>\n",
              "      <td>unfurnished</td>\n",
              "    </tr>\n",
              "    <tr>\n",
              "      <th>4</th>\n",
              "      <td>4.500000e+09</td>\n",
              "      <td>-6.223945</td>\n",
              "      <td>106.986275</td>\n",
              "      <td>4.0</td>\n",
              "      <td>3.0</td>\n",
              "      <td>328.0</td>\n",
              "      <td>196.0</td>\n",
              "      <td>2.0</td>\n",
              "      <td>shm - sertifikat hak milik</td>\n",
              "      <td>1.0</td>\n",
              "      <td>1.0</td>\n",
              "      <td>2.0</td>\n",
              "      <td>9.0</td>\n",
              "      <td>2013.0</td>\n",
              "      <td>Siap Huni</td>\n",
              "      <td>1.0</td>\n",
              "      <td>unfurnished</td>\n",
              "    </tr>\n",
              "  </tbody>\n",
              "</table>\n",
              "</div>\n",
              "    <div class=\"colab-df-buttons\">\n",
              "\n",
              "  <div class=\"colab-df-container\">\n",
              "    <button class=\"colab-df-convert\" onclick=\"convertToInteractive('df-6212cf1c-d062-49a0-9a73-9bf4972b2b55')\"\n",
              "            title=\"Convert this dataframe to an interactive table.\"\n",
              "            style=\"display:none;\">\n",
              "\n",
              "  <svg xmlns=\"http://www.w3.org/2000/svg\" height=\"24px\" viewBox=\"0 -960 960 960\">\n",
              "    <path d=\"M120-120v-720h720v720H120Zm60-500h600v-160H180v160Zm220 220h160v-160H400v160Zm0 220h160v-160H400v160ZM180-400h160v-160H180v160Zm440 0h160v-160H620v160ZM180-180h160v-160H180v160Zm440 0h160v-160H620v160Z\"/>\n",
              "  </svg>\n",
              "    </button>\n",
              "\n",
              "  <style>\n",
              "    .colab-df-container {\n",
              "      display:flex;\n",
              "      gap: 12px;\n",
              "    }\n",
              "\n",
              "    .colab-df-convert {\n",
              "      background-color: #E8F0FE;\n",
              "      border: none;\n",
              "      border-radius: 50%;\n",
              "      cursor: pointer;\n",
              "      display: none;\n",
              "      fill: #1967D2;\n",
              "      height: 32px;\n",
              "      padding: 0 0 0 0;\n",
              "      width: 32px;\n",
              "    }\n",
              "\n",
              "    .colab-df-convert:hover {\n",
              "      background-color: #E2EBFA;\n",
              "      box-shadow: 0px 1px 2px rgba(60, 64, 67, 0.3), 0px 1px 3px 1px rgba(60, 64, 67, 0.15);\n",
              "      fill: #174EA6;\n",
              "    }\n",
              "\n",
              "    .colab-df-buttons div {\n",
              "      margin-bottom: 4px;\n",
              "    }\n",
              "\n",
              "    [theme=dark] .colab-df-convert {\n",
              "      background-color: #3B4455;\n",
              "      fill: #D2E3FC;\n",
              "    }\n",
              "\n",
              "    [theme=dark] .colab-df-convert:hover {\n",
              "      background-color: #434B5C;\n",
              "      box-shadow: 0px 1px 3px 1px rgba(0, 0, 0, 0.15);\n",
              "      filter: drop-shadow(0px 1px 2px rgba(0, 0, 0, 0.3));\n",
              "      fill: #FFFFFF;\n",
              "    }\n",
              "  </style>\n",
              "\n",
              "    <script>\n",
              "      const buttonEl =\n",
              "        document.querySelector('#df-6212cf1c-d062-49a0-9a73-9bf4972b2b55 button.colab-df-convert');\n",
              "      buttonEl.style.display =\n",
              "        google.colab.kernel.accessAllowed ? 'block' : 'none';\n",
              "\n",
              "      async function convertToInteractive(key) {\n",
              "        const element = document.querySelector('#df-6212cf1c-d062-49a0-9a73-9bf4972b2b55');\n",
              "        const dataTable =\n",
              "          await google.colab.kernel.invokeFunction('convertToInteractive',\n",
              "                                                    [key], {});\n",
              "        if (!dataTable) return;\n",
              "\n",
              "        const docLinkHtml = 'Like what you see? Visit the ' +\n",
              "          '<a target=\"_blank\" href=https://colab.research.google.com/notebooks/data_table.ipynb>data table notebook</a>'\n",
              "          + ' to learn more about interactive tables.';\n",
              "        element.innerHTML = '';\n",
              "        dataTable['output_type'] = 'display_data';\n",
              "        await google.colab.output.renderOutput(dataTable, element);\n",
              "        const docLink = document.createElement('div');\n",
              "        docLink.innerHTML = docLinkHtml;\n",
              "        element.appendChild(docLink);\n",
              "      }\n",
              "    </script>\n",
              "  </div>\n",
              "\n",
              "\n",
              "    <div id=\"df-d7b21522-ff86-43b2-9530-6fa47cfc2bd4\">\n",
              "      <button class=\"colab-df-quickchart\" onclick=\"quickchart('df-d7b21522-ff86-43b2-9530-6fa47cfc2bd4')\"\n",
              "                title=\"Suggest charts\"\n",
              "                style=\"display:none;\">\n",
              "\n",
              "<svg xmlns=\"http://www.w3.org/2000/svg\" height=\"24px\"viewBox=\"0 0 24 24\"\n",
              "     width=\"24px\">\n",
              "    <g>\n",
              "        <path d=\"M19 3H5c-1.1 0-2 .9-2 2v14c0 1.1.9 2 2 2h14c1.1 0 2-.9 2-2V5c0-1.1-.9-2-2-2zM9 17H7v-7h2v7zm4 0h-2V7h2v10zm4 0h-2v-4h2v4z\"/>\n",
              "    </g>\n",
              "</svg>\n",
              "      </button>\n",
              "\n",
              "<style>\n",
              "  .colab-df-quickchart {\n",
              "      --bg-color: #E8F0FE;\n",
              "      --fill-color: #1967D2;\n",
              "      --hover-bg-color: #E2EBFA;\n",
              "      --hover-fill-color: #174EA6;\n",
              "      --disabled-fill-color: #AAA;\n",
              "      --disabled-bg-color: #DDD;\n",
              "  }\n",
              "\n",
              "  [theme=dark] .colab-df-quickchart {\n",
              "      --bg-color: #3B4455;\n",
              "      --fill-color: #D2E3FC;\n",
              "      --hover-bg-color: #434B5C;\n",
              "      --hover-fill-color: #FFFFFF;\n",
              "      --disabled-bg-color: #3B4455;\n",
              "      --disabled-fill-color: #666;\n",
              "  }\n",
              "\n",
              "  .colab-df-quickchart {\n",
              "    background-color: var(--bg-color);\n",
              "    border: none;\n",
              "    border-radius: 50%;\n",
              "    cursor: pointer;\n",
              "    display: none;\n",
              "    fill: var(--fill-color);\n",
              "    height: 32px;\n",
              "    padding: 0;\n",
              "    width: 32px;\n",
              "  }\n",
              "\n",
              "  .colab-df-quickchart:hover {\n",
              "    background-color: var(--hover-bg-color);\n",
              "    box-shadow: 0 1px 2px rgba(60, 64, 67, 0.3), 0 1px 3px 1px rgba(60, 64, 67, 0.15);\n",
              "    fill: var(--button-hover-fill-color);\n",
              "  }\n",
              "\n",
              "  .colab-df-quickchart-complete:disabled,\n",
              "  .colab-df-quickchart-complete:disabled:hover {\n",
              "    background-color: var(--disabled-bg-color);\n",
              "    fill: var(--disabled-fill-color);\n",
              "    box-shadow: none;\n",
              "  }\n",
              "\n",
              "  .colab-df-spinner {\n",
              "    border: 2px solid var(--fill-color);\n",
              "    border-color: transparent;\n",
              "    border-bottom-color: var(--fill-color);\n",
              "    animation:\n",
              "      spin 1s steps(1) infinite;\n",
              "  }\n",
              "\n",
              "  @keyframes spin {\n",
              "    0% {\n",
              "      border-color: transparent;\n",
              "      border-bottom-color: var(--fill-color);\n",
              "      border-left-color: var(--fill-color);\n",
              "    }\n",
              "    20% {\n",
              "      border-color: transparent;\n",
              "      border-left-color: var(--fill-color);\n",
              "      border-top-color: var(--fill-color);\n",
              "    }\n",
              "    30% {\n",
              "      border-color: transparent;\n",
              "      border-left-color: var(--fill-color);\n",
              "      border-top-color: var(--fill-color);\n",
              "      border-right-color: var(--fill-color);\n",
              "    }\n",
              "    40% {\n",
              "      border-color: transparent;\n",
              "      border-right-color: var(--fill-color);\n",
              "      border-top-color: var(--fill-color);\n",
              "    }\n",
              "    60% {\n",
              "      border-color: transparent;\n",
              "      border-right-color: var(--fill-color);\n",
              "    }\n",
              "    80% {\n",
              "      border-color: transparent;\n",
              "      border-right-color: var(--fill-color);\n",
              "      border-bottom-color: var(--fill-color);\n",
              "    }\n",
              "    90% {\n",
              "      border-color: transparent;\n",
              "      border-bottom-color: var(--fill-color);\n",
              "    }\n",
              "  }\n",
              "</style>\n",
              "\n",
              "      <script>\n",
              "        async function quickchart(key) {\n",
              "          const quickchartButtonEl =\n",
              "            document.querySelector('#' + key + ' button');\n",
              "          quickchartButtonEl.disabled = true;  // To prevent multiple clicks.\n",
              "          quickchartButtonEl.classList.add('colab-df-spinner');\n",
              "          try {\n",
              "            const charts = await google.colab.kernel.invokeFunction(\n",
              "                'suggestCharts', [key], {});\n",
              "          } catch (error) {\n",
              "            console.error('Error during call to suggestCharts:', error);\n",
              "          }\n",
              "          quickchartButtonEl.classList.remove('colab-df-spinner');\n",
              "          quickchartButtonEl.classList.add('colab-df-quickchart-complete');\n",
              "        }\n",
              "        (() => {\n",
              "          let quickchartButtonEl =\n",
              "            document.querySelector('#df-d7b21522-ff86-43b2-9530-6fa47cfc2bd4 button');\n",
              "          quickchartButtonEl.style.display =\n",
              "            google.colab.kernel.accessAllowed ? 'block' : 'none';\n",
              "        })();\n",
              "      </script>\n",
              "    </div>\n",
              "\n",
              "    </div>\n",
              "  </div>\n"
            ],
            "application/vnd.google.colaboratory.intrinsic+json": {
              "type": "dataframe",
              "variable_name": "data",
              "summary": "{\n  \"name\": \"data\",\n  \"rows\": 2914,\n  \"fields\": [\n    {\n      \"column\": \"price\",\n      \"properties\": {\n        \"dtype\": \"number\",\n        \"std\": 1695363247.5650058,\n        \"min\": 42000000.0,\n        \"max\": 8000000000.0,\n        \"num_unique_values\": 544,\n        \"samples\": [\n          534000000.0,\n          473000000.0,\n          897000000.0\n        ],\n        \"semantic_type\": \"\",\n        \"description\": \"\"\n      }\n    },\n    {\n      \"column\": \"latitude\",\n      \"properties\": {\n        \"dtype\": \"number\",\n        \"std\": 0.12606522856900396,\n        \"min\": -6.7213695,\n        \"max\": -6.1024783,\n        \"num_unique_values\": 354,\n        \"samples\": [\n          -6.1843594,\n          -6.3225674,\n          -6.2776781\n        ],\n        \"semantic_type\": \"\",\n        \"description\": \"\"\n      }\n    },\n    {\n      \"column\": \"longitude\",\n      \"properties\": {\n        \"dtype\": \"number\",\n        \"std\": 0.14686274162907348,\n        \"min\": 106.41202,\n        \"max\": 107.1542629,\n        \"num_unique_values\": 355,\n        \"samples\": [\n          106.774785,\n          107.0232889,\n          106.8275431\n        ],\n        \"semantic_type\": \"\",\n        \"description\": \"\"\n      }\n    },\n    {\n      \"column\": \"bedrooms\",\n      \"properties\": {\n        \"dtype\": \"number\",\n        \"std\": 1.224374584868119,\n        \"min\": 1.0,\n        \"max\": 37.0,\n        \"num_unique_values\": 12,\n        \"samples\": [\n          16.0,\n          37.0,\n          4.0\n        ],\n        \"semantic_type\": \"\",\n        \"description\": \"\"\n      }\n    },\n    {\n      \"column\": \"bathrooms\",\n      \"properties\": {\n        \"dtype\": \"number\",\n        \"std\": 1.1273658441252628,\n        \"min\": 1.0,\n        \"max\": 16.0,\n        \"num_unique_values\": 13,\n        \"samples\": [\n          7.0,\n          8.0,\n          4.0\n        ],\n        \"semantic_type\": \"\",\n        \"description\": \"\"\n      }\n    },\n    {\n      \"column\": \"land_size\",\n      \"properties\": {\n        \"dtype\": \"number\",\n        \"std\": 209.48887250756746,\n        \"min\": 12.0,\n        \"max\": 4640.0,\n        \"num_unique_values\": 329,\n        \"samples\": [\n          110.0,\n          228.0,\n          526.0\n        ],\n        \"semantic_type\": \"\",\n        \"description\": \"\"\n      }\n    },\n    {\n      \"column\": \"building_size\",\n      \"properties\": {\n        \"dtype\": \"number\",\n        \"std\": 113.28186178443259,\n        \"min\": 18.0,\n        \"max\": 2000.0,\n        \"num_unique_values\": 272,\n        \"samples\": [\n          40.0,\n          143.0,\n          350.0\n        ],\n        \"semantic_type\": \"\",\n        \"description\": \"\"\n      }\n    },\n    {\n      \"column\": \"carports\",\n      \"properties\": {\n        \"dtype\": \"number\",\n        \"std\": 0.7828216190752043,\n        \"min\": 0.0,\n        \"max\": 12.0,\n        \"num_unique_values\": 9,\n        \"samples\": [\n          7.0,\n          1.0,\n          12.0\n        ],\n        \"semantic_type\": \"\",\n        \"description\": \"\"\n      }\n    },\n    {\n      \"column\": \"certificate\",\n      \"properties\": {\n        \"dtype\": \"category\",\n        \"num_unique_values\": 4,\n        \"samples\": [\n          \"hgb - hak guna bangunan\",\n          \"Tidak ada\",\n          \"shm - sertifikat hak milik\"\n        ],\n        \"semantic_type\": \"\",\n        \"description\": \"\"\n      }\n    },\n    {\n      \"column\": \"maid_bedrooms\",\n      \"properties\": {\n        \"dtype\": \"number\",\n        \"std\": 0.5388910036768249,\n        \"min\": 0.0,\n        \"max\": 3.0,\n        \"num_unique_values\": 4,\n        \"samples\": [\n          1.0,\n          3.0,\n          0.0\n        ],\n        \"semantic_type\": \"\",\n        \"description\": \"\"\n      }\n    },\n    {\n      \"column\": \"maid_bathrooms\",\n      \"properties\": {\n        \"dtype\": \"number\",\n        \"std\": 0.47955393700794013,\n        \"min\": 0.0,\n        \"max\": 2.0,\n        \"num_unique_values\": 3,\n        \"samples\": [\n          1.0,\n          0.0,\n          2.0\n        ],\n        \"semantic_type\": \"\",\n        \"description\": \"\"\n      }\n    },\n    {\n      \"column\": \"floors\",\n      \"properties\": {\n        \"dtype\": \"number\",\n        \"std\": 0.5953248360452492,\n        \"min\": 1.0,\n        \"max\": 4.0,\n        \"num_unique_values\": 4,\n        \"samples\": [\n          3.0,\n          4.0,\n          2.0\n        ],\n        \"semantic_type\": \"\",\n        \"description\": \"\"\n      }\n    },\n    {\n      \"column\": \"building_age\",\n      \"properties\": {\n        \"dtype\": \"number\",\n        \"std\": 5.859210248049631,\n        \"min\": 0.0,\n        \"max\": 52.0,\n        \"num_unique_values\": 37,\n        \"samples\": [\n          18.0,\n          3.0,\n          7.0\n        ],\n        \"semantic_type\": \"\",\n        \"description\": \"\"\n      }\n    },\n    {\n      \"column\": \"year_built\",\n      \"properties\": {\n        \"dtype\": \"number\",\n        \"std\": 5.8592102480496395,\n        \"min\": 1970.0,\n        \"max\": 2022.0,\n        \"num_unique_values\": 37,\n        \"samples\": [\n          2004.0,\n          2019.0,\n          2015.0\n        ],\n        \"semantic_type\": \"\",\n        \"description\": \"\"\n      }\n    },\n    {\n      \"column\": \"property_condition\",\n      \"properties\": {\n        \"dtype\": \"category\",\n        \"num_unique_values\": 3,\n        \"samples\": [\n          \"Siap Huni\",\n          \"Baru\",\n          \"Butuh Renovasi\"\n        ],\n        \"semantic_type\": \"\",\n        \"description\": \"\"\n      }\n    },\n    {\n      \"column\": \"garages\",\n      \"properties\": {\n        \"dtype\": \"number\",\n        \"std\": 0.7937399638208256,\n        \"min\": 0.0,\n        \"max\": 10.0,\n        \"num_unique_values\": 8,\n        \"samples\": [\n          1.0,\n          4.0,\n          0.0\n        ],\n        \"semantic_type\": \"\",\n        \"description\": \"\"\n      }\n    },\n    {\n      \"column\": \"furnishing\",\n      \"properties\": {\n        \"dtype\": \"category\",\n        \"num_unique_values\": 3,\n        \"samples\": [\n          \"unfurnished\",\n          \"semi furnished\",\n          \"furnished\"\n        ],\n        \"semantic_type\": \"\",\n        \"description\": \"\"\n      }\n    }\n  ]\n}"
            }
          },
          "metadata": {},
          "execution_count": 33
        }
      ]
    },
    {
      "cell_type": "markdown",
      "source": [
        "### Naive Bayes"
      ],
      "metadata": {
        "id": "ZdxHgI8pCcuh"
      },
      "id": "ZdxHgI8pCcuh"
    },
    {
      "cell_type": "markdown",
      "source": [
        "### ANN"
      ],
      "metadata": {
        "id": "uv_qZPQNCoD_"
      },
      "id": "uv_qZPQNCoD_"
    },
    {
      "cell_type": "markdown",
      "source": [
        "### Fuzzy Logic"
      ],
      "metadata": {
        "id": "P2in4RoUCqP1"
      },
      "id": "P2in4RoUCqP1"
    },
    {
      "cell_type": "code",
      "source": [
        "import numpy as np\n",
        "import matplotlib.pyplot as plt"
      ],
      "metadata": {
        "id": "13MHAk7XCa8U"
      },
      "id": "13MHAk7XCa8U",
      "execution_count": 28,
      "outputs": []
    },
    {
      "cell_type": "code",
      "source": [
        "# Visualisasi Grafik Keanggotaan Fuzzy\n",
        "def triangular(x, a, b, c):\n",
        "    left = np.where(b != a, (x - a) / (b - a), 0)\n",
        "    right = np.where(c != b, (c - x) / (c - b), 0)\n",
        "    return np.maximum(np.minimum(left, right), 0)\n",
        "\n",
        "x = np.linspace(0, 2000, 1000)\n",
        "\n",
        "sangat_murah = triangular(x, 0, 1, 300)\n",
        "murah = triangular(x, 250, 400, 600)\n",
        "sedang = triangular(x, 500, 700, 900)\n",
        "mahal = triangular(x, 800, 1000, 1200)\n",
        "sangat_mahal = triangular(x, 1100, 1500, 2000)\n",
        "\n",
        "plt.figure(figsize=(10,6))\n",
        "plt.plot(x, sangat_murah, label='Sangat Murah')\n",
        "plt.plot(x, murah, label='Murah')\n",
        "plt.plot(x, sedang, label='Sedang')\n",
        "plt.plot(x, mahal, label='Mahal')\n",
        "plt.plot(x, sangat_mahal, label='Sangat Mahal')\n",
        "\n",
        "plt.title('Fuzzy Membership Functions for House Price')\n",
        "plt.xlabel('Housr Price (in million)')\n",
        "plt.ylabel('Membership Degree')\n",
        "plt.legend()\n",
        "plt.grid(True)\n",
        "plt.show()"
      ],
      "metadata": {
        "id": "8DrTK06nCwbX",
        "outputId": "bda41be4-288b-451c-a987-9e213753fdaf",
        "colab": {
          "base_uri": "https://localhost:8080/",
          "height": 564
        }
      },
      "id": "8DrTK06nCwbX",
      "execution_count": 29,
      "outputs": [
        {
          "output_type": "display_data",
          "data": {
            "text/plain": [
              "<Figure size 1000x600 with 1 Axes>"
            ],
            "image/png": "[encoded data removed]"
          },
          "metadata": {}
        }
      ]
    },
    {
      "cell_type": "code",
      "source": [
        "def fuzzy_keanggotaan_harga(harga):\n",
        "  result = {\n",
        "      'sangat_murah' : triangular(harga, 0, 1, 300),\n",
        "      'murah' : triangular(harga, 250, 400, 600),\n",
        "      'sedang' : triangular(harga, 500, 700, 900),\n",
        "      'mahal' : triangular(harga, 800, 1000, 1200),\n",
        "      'sangat_mahal' : triangular(harga, 1100, 1500, 2000)\n",
        "  }\n",
        "\n",
        "  return result"
      ],
      "metadata": {
        "id": "-ZxtawObEB_T"
      },
      "id": "-ZxtawObEB_T",
      "execution_count": 30,
      "outputs": []
    },
    {
      "cell_type": "code",
      "source": [
        "def fuzzy_output(keanggotaan):\n",
        "  nilai = 0\n",
        "  total_bobot = 0\n",
        "  rules = {\n",
        "      'sangat_murah': 10,\n",
        "      'murah': 30,\n",
        "      'sedang': 50,\n",
        "      'mahal': 70,\n",
        "      'sangat_mahal': 90\n",
        "  }\n",
        "  for kategori, derajat in keanggotaan.items():\n",
        "    nilai += derajat * rules[kategori]\n",
        "    total_bobot += derajat\n",
        "  return nilai / total_bobot if total_bobot > 0 else 0\n",
        "\n",
        "def kategori_utama(keanggotaan):\n",
        "  kategori = max(keanggotaan, key=keanggotaan.get)\n",
        "  return kategori"
      ],
      "metadata": {
        "id": "1S2z4iZlILkp"
      },
      "id": "1S2z4iZlILkp",
      "execution_count": 31,
      "outputs": []
    },
    {
      "cell_type": "code",
      "source": [
        "harga_rumah = 750  # Example house price in million\n",
        "\n",
        "keanggotaan = fuzzy_keanggotaan_harga(harga_rumah)\n",
        "output_nilai = fuzzy_output(keanggotaan)\n",
        "kategori = kategori_utama(keanggotaan)\n",
        "\n",
        "print(f\"\\nHouse price = {harga_rumah} million\")\n",
        "print(f\"Fuzzy memberships:\")\n",
        "for kategori_label, derajat in keanggotaan.items():\n",
        "    print(f\"  {kategori_label}: {derajat:.2f}\")\n",
        "\n",
        "print(f\"\\nDefuzzified output value: {output_nilai:.2f}\")\n",
        "print(f\"Dominant fuzzy category: {kategori}\")"
      ],
      "metadata": {
        "id": "13RY0B48IgFU",
        "outputId": "73c6dc5a-d636-4094-f485-89f43c5a1783",
        "colab": {
          "base_uri": "https://localhost:8080/"
        }
      },
      "id": "13RY0B48IgFU",
      "execution_count": 32,
      "outputs": [
        {
          "output_type": "stream",
          "name": "stdout",
          "text": [
            "\n",
            "House price = 750 million\n",
            "Fuzzy memberships:\n",
            "  sangat_murah: 0.00\n",
            "  murah: 0.00\n",
            "  sedang: 0.75\n",
            "  mahal: 0.00\n",
            "  sangat_mahal: 0.00\n",
            "\n",
            "Defuzzified output value: 50.00\n",
            "Dominant fuzzy category: sedang\n"
          ]
        }
      ]
    }
  ],
  "metadata": {
    "colab": {
      "provenance": []
    },
    "kernelspec": {
      "display_name": "DataScienceEnv",
      "language": "python",
      "name": "python3"
    },
    "language_info": {
      "codemirror_mode": {
        "name": "ipython",
        "version": 3
      },
      "file_extension": ".py",
      "mimetype": "text/x-python",
      "name": "python",
      "nbconvert_exporter": "python",
      "pygments_lexer": "ipython3",
      "version": "3.13.3"
    }
  },
  "nbformat": 4,
  "nbformat_minor": 5
}