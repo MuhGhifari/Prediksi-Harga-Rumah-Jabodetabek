{
 "cells": [
  {
   "cell_type": "markdown",
   "metadata": {},
   "source": [
    "# Prediksi Kategori Harga Rumah Jabodetabek\n",
    "\n",
    "Notebook ini membangun model AI untuk memprediksi kategori harga rumah menggunakan **Naive Bayes**, **Fuzzy Logic**, dan **Artificial Neural Networks** (ANN), tanpa menggunakan K-Nearest Neighbors."
   ]
  },
  {
   "cell_type": "markdown",
   "metadata": {},
   "source": [
    "## Library"
   ]
  },
  {
   "cell_type": "code",
   "execution_count": null,
   "metadata": {},
   "outputs": [],
   "source": [
    "import pandas as pd\n",
    "import numpy as np\n",
    "import matplotlib.pyplot as plt\n",
    "import seaborn as sns\n",
    "from sklearn.model_selection import train_test_split\n",
    "from sklearn.preprocessing import LabelEncoder, StandardScaler\n",
    "from sklearn.naive_bayes import GaussianNB\n",
    "from sklearn.metrics import classification_report, confusion_matrix, accuracy_score\n",
    "import skfuzzy as fuzz\n",
    "from tensorflow.keras.models import Sequential\n",
    "from tensorflow.keras.layers import Dense\n",
    "from tensorflow.keras.utils import to_categorical"
   ]
  },
  {
   "cell_type": "markdown",
   "metadata": {},
   "source": [
    "## Import Data"
   ]
  },
  {
   "cell_type": "code",
   "execution_count": null,
   "metadata": {},
   "outputs": [],
   "source": [
    "data_url = 'https://raw.githubusercontent.com/MuhGhifari/Prediksi-Harga-Rumah-Jabodetabek/refs/heads/main/jabodetabek_house_price.csv'\n",
    "data = pd.read_csv(data_url)\n",
    "data = data[['price_in_rp','latitude','longitude','bedrooms','bathrooms','land_size_m2','building_size_m2','carports','maid_bedrooms','maid_bathrooms','floors','building_age','year_built','property_condition','furnishing','certificate','garages']]\n",
    "data.rename(columns={'price_in_rp':'price','land_size_m2':'land_size','building_size_m2':'building_size'}, inplace=True)\n",
    "data.head()"
   ]
  },
  {
   "cell_type": "markdown",
   "metadata": {},
   "source": [
    "## Preprocessing & Feature Engineering"
   ]
  },
  {
   "cell_type": "code",
   "execution_count": null,
   "metadata": {},
   "outputs": [],
   "source": [
    "# Drop rows with missing essential values\n",
    "data = data.dropna(subset=['bedrooms','bathrooms','floors','property_condition'])\n",
    "\n",
    "# Buat kategori harga (Low, Medium, High) berdasarkan quantile\n",
    "data['price_category'] = pd.qcut(data['price'], q=3, labels=['Low','Medium','High'])\n",
    "\n",
    "# Encode categorical features\n",
    "le_condition = LabelEncoder()\n",
    "le_furnish = LabelEncoder()\n",
    "le_cert = LabelEncoder()\n",
    "data['property_condition'] = le_condition.fit_transform(data['property_condition'].astype(str))\n",
    "data['furnishing'] = le_furnish.fit_transform(data['furnishing'].astype(str))\n",
    "data['certificate'] = le_cert.fit_transform(data['certificate'].astype(str))\n",
    "\n",
    "# Pilih fitur\n",
    "features = ['bedrooms','bathrooms','land_size','building_size','carports','maid_bedrooms','maid_bathrooms','floors','building_age','property_condition','furnishing','certificate','garages']\n",
    "X = data[features]\n",
    "y = data['price_category']"
   ]
  },
  {
   "cell_type": "markdown",
   "metadata": {},
   "source": [
    "## Split Data"
   ]
  },
  {
   "cell_type": "code",
   "execution_count": null,
   "metadata": {},
   "outputs": [],
   "source": [
    "X_train, X_test, y_train, y_test = train_test_split(X, y, test_size=0.2, random_state=42, stratify=y)\n",
    "scaler = StandardScaler()\n",
    "X_train_scaled = scaler.fit_transform(X_train)\n",
    "X_test_scaled = scaler.transform(X_test)"
   ]
  },
  {
   "cell_type": "markdown",
   "metadata": {},
   "source": [
    "## 1. Naive Bayes"
   ]
  },
  {
   "cell_type": "code",
   "execution_count": null,
   "metadata": {},
   "outputs": [],
   "source": [
    "nb = GaussianNB()\n",
    "nb.fit(X_train_scaled, y_train)\n",
    "y_pred_nb = nb.predict(X_test_scaled)\n",
    "print('Akurasi Naive Bayes:', accuracy_score(y_test, y_pred_nb))\n",
    "print(classification_report(y_test, y_pred_nb))"
   ]
  },
  {
   "cell_type": "markdown",
   "metadata": {},
   "source": [
    "## 2. Fuzzy Logic (Fuzzy C-Means Clustering untuk Kategori Harga)"
   ]
  },
  {
   "cell_type": "code",
   "execution_count": null,
   "metadata": {},
   "outputs": [],
   "source": [
    "# Gunakan hanya fitur numerik untuk Fuzzy C-Means\n",
    "X_fuzzy = X_train_scaled.T\n",
    "cntr, u, u0, d, jm, p, fpc = fuzz.cluster.cmeans(X_fuzzy, c=3, m=2, error=0.005, maxiter=1000, init=None)\n",
    "\n",
    "# Prediksi cluster untuk data test\n",
    "u_test, _, _, _, _, _ = fuzz.cluster.cmeans_predict(X_test_scaled.T, cntr, m=2, error=0.005, maxiter=1000)\n",
    "fuzzy_labels = np.argmax(u_test, axis=0)\n",
    "\n",
    "# Mapping cluster ke kategori harga berdasarkan rata-rata harga di cluster\n",
    "cluster_map = {}\n",
    "for i in range(3):\n",
    "    idx = np.argmax(u, axis=0) == i\n",
    "    mean_price = y_train.reset_index(drop=True)[idx].value_counts().idxmax()\n",
    "    cluster_map[i] = mean_price\n",
    "fuzzy_pred = [cluster_map[c] for c in fuzzy_labels]\n",
    "print('Akurasi Fuzzy Logic:', accuracy_score(y_test, fuzzy_pred))\n",
    "print(classification_report(y_test, fuzzy_pred))"
   ]
  },
  {
   "cell_type": "markdown",
   "metadata": {},
   "source": [
    "## 3. Artificial Neural Network (ANN)"
   ]
  },
  {
   "cell_type": "code",
   "execution_count": null,
   "metadata": {},
   "outputs": [],
   "source": [
    "# Encode target\n",
    "le_y = LabelEncoder()\n",
    "y_train_enc = le_y.fit_transform(y_train)\n",
    "y_test_enc = le_y.transform(y_test)\n",
    "y_train_cat = to_categorical(y_train_enc)\n",
    "y_test_cat = to_categorical(y_test_enc)\n",
    "\n",
    "# Build ANN\n",
    "model = Sequential([\n",
    "    Dense(32, activation='relu', input_shape=(X_train_scaled.shape[1],)),\n",
    "    Dense(16, activation='relu'),\n",
    "    Dense(3, activation='softmax')\n",
    "])\n",
    "model.compile(optimizer='adam', loss='categorical_crossentropy', metrics=['accuracy'])\n",
    "model.fit(X_train_scaled, y_train_cat, epochs=30, batch_size=32, verbose=0)\n",
    "\n",
    "# Evaluate\n",
    "loss, acc = model.evaluate(X_test_scaled, y_test_cat, verbose=0)\n",
    "print('Akurasi ANN:', acc)\n",
    "y_pred_ann = np.argmax(model.predict(X_test_scaled), axis=1)\n",
    "print(classification_report(y_test_enc, y_pred_ann, target_names=le_y.classes_))"
   ]
  }
 ],
 "metadata": {
  "kernelspec": {
   "display_name": "Python 3",
   "language": "python",
   "name": "python3"
  },
  "language_info": {
   "name": "python",
   "version": ""
  }
 },
 "nbformat": 4,
 "nbformat_minor": 2
}